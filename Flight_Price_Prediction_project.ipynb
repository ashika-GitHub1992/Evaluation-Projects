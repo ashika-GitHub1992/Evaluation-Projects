{
 "cells": [
  {
   "cell_type": "markdown",
   "id": "b7081a1e",
   "metadata": {},
   "source": [
    "# FLIGHT PRICE PREDICTION"
   ]
  },
  {
   "cell_type": "code",
   "execution_count": 1,
   "id": "f3880834",
   "metadata": {},
   "outputs": [],
   "source": [
    "#import libraries\n",
    "import pandas as pd\n",
    "import numpy as np\n",
    "import seaborn as sns\n",
    "import matplotlib.pyplot as plt\n",
    "import warnings\n",
    "warnings.filterwarnings('ignore')"
   ]
  },
  {
   "cell_type": "code",
   "execution_count": 6,
   "id": "d80128a3",
   "metadata": {},
   "outputs": [],
   "source": [
    "#load datasets\n",
    "train=pd.read_csv(\"Data_Train.csv\")\n",
    "test=pd.read_csv(\"Test_set.csv\")"
   ]
  },
  {
   "cell_type": "code",
   "execution_count": 7,
   "id": "8a8aff63",
   "metadata": {},
   "outputs": [
    {
     "data": {
      "text/html": [
       "<div>\n",
       "<style scoped>\n",
       "    .dataframe tbody tr th:only-of-type {\n",
       "        vertical-align: middle;\n",
       "    }\n",
       "\n",
       "    .dataframe tbody tr th {\n",
       "        vertical-align: top;\n",
       "    }\n",
       "\n",
       "    .dataframe thead th {\n",
       "        text-align: right;\n",
       "    }\n",
       "</style>\n",
       "<table border=\"1\" class=\"dataframe\">\n",
       "  <thead>\n",
       "    <tr style=\"text-align: right;\">\n",
       "      <th></th>\n",
       "      <th>Airline</th>\n",
       "      <th>Date_of_Journey</th>\n",
       "      <th>Source</th>\n",
       "      <th>Destination</th>\n",
       "      <th>Route</th>\n",
       "      <th>Dep_Time</th>\n",
       "      <th>Arrival_Time</th>\n",
       "      <th>Duration</th>\n",
       "      <th>Total_Stops</th>\n",
       "      <th>Additional_Info</th>\n",
       "      <th>Price</th>\n",
       "    </tr>\n",
       "  </thead>\n",
       "  <tbody>\n",
       "    <tr>\n",
       "      <th>0</th>\n",
       "      <td>IndiGo</td>\n",
       "      <td>24/03/2019</td>\n",
       "      <td>Banglore</td>\n",
       "      <td>New Delhi</td>\n",
       "      <td>BLR → DEL</td>\n",
       "      <td>22:20</td>\n",
       "      <td>01:10 22 Mar</td>\n",
       "      <td>2h 50m</td>\n",
       "      <td>non-stop</td>\n",
       "      <td>No info</td>\n",
       "      <td>3897</td>\n",
       "    </tr>\n",
       "    <tr>\n",
       "      <th>1</th>\n",
       "      <td>Air India</td>\n",
       "      <td>1/05/2019</td>\n",
       "      <td>Kolkata</td>\n",
       "      <td>Banglore</td>\n",
       "      <td>CCU → IXR → BBI → BLR</td>\n",
       "      <td>05:50</td>\n",
       "      <td>13:15</td>\n",
       "      <td>7h 25m</td>\n",
       "      <td>2 stops</td>\n",
       "      <td>No info</td>\n",
       "      <td>7662</td>\n",
       "    </tr>\n",
       "    <tr>\n",
       "      <th>2</th>\n",
       "      <td>Jet Airways</td>\n",
       "      <td>9/06/2019</td>\n",
       "      <td>Delhi</td>\n",
       "      <td>Cochin</td>\n",
       "      <td>DEL → LKO → BOM → COK</td>\n",
       "      <td>09:25</td>\n",
       "      <td>04:25 10 Jun</td>\n",
       "      <td>19h</td>\n",
       "      <td>2 stops</td>\n",
       "      <td>No info</td>\n",
       "      <td>13882</td>\n",
       "    </tr>\n",
       "    <tr>\n",
       "      <th>3</th>\n",
       "      <td>IndiGo</td>\n",
       "      <td>12/05/2019</td>\n",
       "      <td>Kolkata</td>\n",
       "      <td>Banglore</td>\n",
       "      <td>CCU → NAG → BLR</td>\n",
       "      <td>18:05</td>\n",
       "      <td>23:30</td>\n",
       "      <td>5h 25m</td>\n",
       "      <td>1 stop</td>\n",
       "      <td>No info</td>\n",
       "      <td>6218</td>\n",
       "    </tr>\n",
       "    <tr>\n",
       "      <th>4</th>\n",
       "      <td>IndiGo</td>\n",
       "      <td>01/03/2019</td>\n",
       "      <td>Banglore</td>\n",
       "      <td>New Delhi</td>\n",
       "      <td>BLR → NAG → DEL</td>\n",
       "      <td>16:50</td>\n",
       "      <td>21:35</td>\n",
       "      <td>4h 45m</td>\n",
       "      <td>1 stop</td>\n",
       "      <td>No info</td>\n",
       "      <td>13302</td>\n",
       "    </tr>\n",
       "    <tr>\n",
       "      <th>...</th>\n",
       "      <td>...</td>\n",
       "      <td>...</td>\n",
       "      <td>...</td>\n",
       "      <td>...</td>\n",
       "      <td>...</td>\n",
       "      <td>...</td>\n",
       "      <td>...</td>\n",
       "      <td>...</td>\n",
       "      <td>...</td>\n",
       "      <td>...</td>\n",
       "      <td>...</td>\n",
       "    </tr>\n",
       "    <tr>\n",
       "      <th>10678</th>\n",
       "      <td>Air Asia</td>\n",
       "      <td>9/04/2019</td>\n",
       "      <td>Kolkata</td>\n",
       "      <td>Banglore</td>\n",
       "      <td>CCU → BLR</td>\n",
       "      <td>19:55</td>\n",
       "      <td>22:25</td>\n",
       "      <td>2h 30m</td>\n",
       "      <td>non-stop</td>\n",
       "      <td>No info</td>\n",
       "      <td>4107</td>\n",
       "    </tr>\n",
       "    <tr>\n",
       "      <th>10679</th>\n",
       "      <td>Air India</td>\n",
       "      <td>27/04/2019</td>\n",
       "      <td>Kolkata</td>\n",
       "      <td>Banglore</td>\n",
       "      <td>CCU → BLR</td>\n",
       "      <td>20:45</td>\n",
       "      <td>23:20</td>\n",
       "      <td>2h 35m</td>\n",
       "      <td>non-stop</td>\n",
       "      <td>No info</td>\n",
       "      <td>4145</td>\n",
       "    </tr>\n",
       "    <tr>\n",
       "      <th>10680</th>\n",
       "      <td>Jet Airways</td>\n",
       "      <td>27/04/2019</td>\n",
       "      <td>Banglore</td>\n",
       "      <td>Delhi</td>\n",
       "      <td>BLR → DEL</td>\n",
       "      <td>08:20</td>\n",
       "      <td>11:20</td>\n",
       "      <td>3h</td>\n",
       "      <td>non-stop</td>\n",
       "      <td>No info</td>\n",
       "      <td>7229</td>\n",
       "    </tr>\n",
       "    <tr>\n",
       "      <th>10681</th>\n",
       "      <td>Vistara</td>\n",
       "      <td>01/03/2019</td>\n",
       "      <td>Banglore</td>\n",
       "      <td>New Delhi</td>\n",
       "      <td>BLR → DEL</td>\n",
       "      <td>11:30</td>\n",
       "      <td>14:10</td>\n",
       "      <td>2h 40m</td>\n",
       "      <td>non-stop</td>\n",
       "      <td>No info</td>\n",
       "      <td>12648</td>\n",
       "    </tr>\n",
       "    <tr>\n",
       "      <th>10682</th>\n",
       "      <td>Air India</td>\n",
       "      <td>9/05/2019</td>\n",
       "      <td>Delhi</td>\n",
       "      <td>Cochin</td>\n",
       "      <td>DEL → GOI → BOM → COK</td>\n",
       "      <td>10:55</td>\n",
       "      <td>19:15</td>\n",
       "      <td>8h 20m</td>\n",
       "      <td>2 stops</td>\n",
       "      <td>No info</td>\n",
       "      <td>11753</td>\n",
       "    </tr>\n",
       "  </tbody>\n",
       "</table>\n",
       "<p>10683 rows × 11 columns</p>\n",
       "</div>"
      ],
      "text/plain": [
       "           Airline Date_of_Journey    Source Destination  \\\n",
       "0           IndiGo      24/03/2019  Banglore   New Delhi   \n",
       "1        Air India       1/05/2019   Kolkata    Banglore   \n",
       "2      Jet Airways       9/06/2019     Delhi      Cochin   \n",
       "3           IndiGo      12/05/2019   Kolkata    Banglore   \n",
       "4           IndiGo      01/03/2019  Banglore   New Delhi   \n",
       "...            ...             ...       ...         ...   \n",
       "10678     Air Asia       9/04/2019   Kolkata    Banglore   \n",
       "10679    Air India      27/04/2019   Kolkata    Banglore   \n",
       "10680  Jet Airways      27/04/2019  Banglore       Delhi   \n",
       "10681      Vistara      01/03/2019  Banglore   New Delhi   \n",
       "10682    Air India       9/05/2019     Delhi      Cochin   \n",
       "\n",
       "                       Route Dep_Time  Arrival_Time Duration Total_Stops  \\\n",
       "0                  BLR → DEL    22:20  01:10 22 Mar   2h 50m    non-stop   \n",
       "1      CCU → IXR → BBI → BLR    05:50         13:15   7h 25m     2 stops   \n",
       "2      DEL → LKO → BOM → COK    09:25  04:25 10 Jun      19h     2 stops   \n",
       "3            CCU → NAG → BLR    18:05         23:30   5h 25m      1 stop   \n",
       "4            BLR → NAG → DEL    16:50         21:35   4h 45m      1 stop   \n",
       "...                      ...      ...           ...      ...         ...   \n",
       "10678              CCU → BLR    19:55         22:25   2h 30m    non-stop   \n",
       "10679              CCU → BLR    20:45         23:20   2h 35m    non-stop   \n",
       "10680              BLR → DEL    08:20         11:20       3h    non-stop   \n",
       "10681              BLR → DEL    11:30         14:10   2h 40m    non-stop   \n",
       "10682  DEL → GOI → BOM → COK    10:55         19:15   8h 20m     2 stops   \n",
       "\n",
       "      Additional_Info  Price  \n",
       "0             No info   3897  \n",
       "1             No info   7662  \n",
       "2             No info  13882  \n",
       "3             No info   6218  \n",
       "4             No info  13302  \n",
       "...               ...    ...  \n",
       "10678         No info   4107  \n",
       "10679         No info   4145  \n",
       "10680         No info   7229  \n",
       "10681         No info  12648  \n",
       "10682         No info  11753  \n",
       "\n",
       "[10683 rows x 11 columns]"
      ]
     },
     "execution_count": 7,
     "metadata": {},
     "output_type": "execute_result"
    }
   ],
   "source": [
    "train"
   ]
  },
  {
   "cell_type": "code",
   "execution_count": 8,
   "id": "f2304f91",
   "metadata": {},
   "outputs": [
    {
     "data": {
      "text/html": [
       "<div>\n",
       "<style scoped>\n",
       "    .dataframe tbody tr th:only-of-type {\n",
       "        vertical-align: middle;\n",
       "    }\n",
       "\n",
       "    .dataframe tbody tr th {\n",
       "        vertical-align: top;\n",
       "    }\n",
       "\n",
       "    .dataframe thead th {\n",
       "        text-align: right;\n",
       "    }\n",
       "</style>\n",
       "<table border=\"1\" class=\"dataframe\">\n",
       "  <thead>\n",
       "    <tr style=\"text-align: right;\">\n",
       "      <th></th>\n",
       "      <th>Airline</th>\n",
       "      <th>Date_of_Journey</th>\n",
       "      <th>Source</th>\n",
       "      <th>Destination</th>\n",
       "      <th>Route</th>\n",
       "      <th>Dep_Time</th>\n",
       "      <th>Arrival_Time</th>\n",
       "      <th>Duration</th>\n",
       "      <th>Total_Stops</th>\n",
       "      <th>Additional_Info</th>\n",
       "    </tr>\n",
       "  </thead>\n",
       "  <tbody>\n",
       "    <tr>\n",
       "      <th>0</th>\n",
       "      <td>Jet Airways</td>\n",
       "      <td>6/06/2019</td>\n",
       "      <td>Delhi</td>\n",
       "      <td>Cochin</td>\n",
       "      <td>DEL → BOM → COK</td>\n",
       "      <td>17:30</td>\n",
       "      <td>04:25 07 Jun</td>\n",
       "      <td>10h 55m</td>\n",
       "      <td>1 stop</td>\n",
       "      <td>No info</td>\n",
       "    </tr>\n",
       "    <tr>\n",
       "      <th>1</th>\n",
       "      <td>IndiGo</td>\n",
       "      <td>12/05/2019</td>\n",
       "      <td>Kolkata</td>\n",
       "      <td>Banglore</td>\n",
       "      <td>CCU → MAA → BLR</td>\n",
       "      <td>06:20</td>\n",
       "      <td>10:20</td>\n",
       "      <td>4h</td>\n",
       "      <td>1 stop</td>\n",
       "      <td>No info</td>\n",
       "    </tr>\n",
       "    <tr>\n",
       "      <th>2</th>\n",
       "      <td>Jet Airways</td>\n",
       "      <td>21/05/2019</td>\n",
       "      <td>Delhi</td>\n",
       "      <td>Cochin</td>\n",
       "      <td>DEL → BOM → COK</td>\n",
       "      <td>19:15</td>\n",
       "      <td>19:00 22 May</td>\n",
       "      <td>23h 45m</td>\n",
       "      <td>1 stop</td>\n",
       "      <td>In-flight meal not included</td>\n",
       "    </tr>\n",
       "    <tr>\n",
       "      <th>3</th>\n",
       "      <td>Multiple carriers</td>\n",
       "      <td>21/05/2019</td>\n",
       "      <td>Delhi</td>\n",
       "      <td>Cochin</td>\n",
       "      <td>DEL → BOM → COK</td>\n",
       "      <td>08:00</td>\n",
       "      <td>21:00</td>\n",
       "      <td>13h</td>\n",
       "      <td>1 stop</td>\n",
       "      <td>No info</td>\n",
       "    </tr>\n",
       "    <tr>\n",
       "      <th>4</th>\n",
       "      <td>Air Asia</td>\n",
       "      <td>24/06/2019</td>\n",
       "      <td>Banglore</td>\n",
       "      <td>Delhi</td>\n",
       "      <td>BLR → DEL</td>\n",
       "      <td>23:55</td>\n",
       "      <td>02:45 25 Jun</td>\n",
       "      <td>2h 50m</td>\n",
       "      <td>non-stop</td>\n",
       "      <td>No info</td>\n",
       "    </tr>\n",
       "    <tr>\n",
       "      <th>...</th>\n",
       "      <td>...</td>\n",
       "      <td>...</td>\n",
       "      <td>...</td>\n",
       "      <td>...</td>\n",
       "      <td>...</td>\n",
       "      <td>...</td>\n",
       "      <td>...</td>\n",
       "      <td>...</td>\n",
       "      <td>...</td>\n",
       "      <td>...</td>\n",
       "    </tr>\n",
       "    <tr>\n",
       "      <th>2666</th>\n",
       "      <td>Air India</td>\n",
       "      <td>6/06/2019</td>\n",
       "      <td>Kolkata</td>\n",
       "      <td>Banglore</td>\n",
       "      <td>CCU → DEL → BLR</td>\n",
       "      <td>20:30</td>\n",
       "      <td>20:25 07 Jun</td>\n",
       "      <td>23h 55m</td>\n",
       "      <td>1 stop</td>\n",
       "      <td>No info</td>\n",
       "    </tr>\n",
       "    <tr>\n",
       "      <th>2667</th>\n",
       "      <td>IndiGo</td>\n",
       "      <td>27/03/2019</td>\n",
       "      <td>Kolkata</td>\n",
       "      <td>Banglore</td>\n",
       "      <td>CCU → BLR</td>\n",
       "      <td>14:20</td>\n",
       "      <td>16:55</td>\n",
       "      <td>2h 35m</td>\n",
       "      <td>non-stop</td>\n",
       "      <td>No info</td>\n",
       "    </tr>\n",
       "    <tr>\n",
       "      <th>2668</th>\n",
       "      <td>Jet Airways</td>\n",
       "      <td>6/03/2019</td>\n",
       "      <td>Delhi</td>\n",
       "      <td>Cochin</td>\n",
       "      <td>DEL → BOM → COK</td>\n",
       "      <td>21:50</td>\n",
       "      <td>04:25 07 Mar</td>\n",
       "      <td>6h 35m</td>\n",
       "      <td>1 stop</td>\n",
       "      <td>No info</td>\n",
       "    </tr>\n",
       "    <tr>\n",
       "      <th>2669</th>\n",
       "      <td>Air India</td>\n",
       "      <td>6/03/2019</td>\n",
       "      <td>Delhi</td>\n",
       "      <td>Cochin</td>\n",
       "      <td>DEL → BOM → COK</td>\n",
       "      <td>04:00</td>\n",
       "      <td>19:15</td>\n",
       "      <td>15h 15m</td>\n",
       "      <td>1 stop</td>\n",
       "      <td>No info</td>\n",
       "    </tr>\n",
       "    <tr>\n",
       "      <th>2670</th>\n",
       "      <td>Multiple carriers</td>\n",
       "      <td>15/06/2019</td>\n",
       "      <td>Delhi</td>\n",
       "      <td>Cochin</td>\n",
       "      <td>DEL → BOM → COK</td>\n",
       "      <td>04:55</td>\n",
       "      <td>19:15</td>\n",
       "      <td>14h 20m</td>\n",
       "      <td>1 stop</td>\n",
       "      <td>No info</td>\n",
       "    </tr>\n",
       "  </tbody>\n",
       "</table>\n",
       "<p>2671 rows × 10 columns</p>\n",
       "</div>"
      ],
      "text/plain": [
       "                Airline Date_of_Journey    Source Destination  \\\n",
       "0           Jet Airways       6/06/2019     Delhi      Cochin   \n",
       "1                IndiGo      12/05/2019   Kolkata    Banglore   \n",
       "2           Jet Airways      21/05/2019     Delhi      Cochin   \n",
       "3     Multiple carriers      21/05/2019     Delhi      Cochin   \n",
       "4              Air Asia      24/06/2019  Banglore       Delhi   \n",
       "...                 ...             ...       ...         ...   \n",
       "2666          Air India       6/06/2019   Kolkata    Banglore   \n",
       "2667             IndiGo      27/03/2019   Kolkata    Banglore   \n",
       "2668        Jet Airways       6/03/2019     Delhi      Cochin   \n",
       "2669          Air India       6/03/2019     Delhi      Cochin   \n",
       "2670  Multiple carriers      15/06/2019     Delhi      Cochin   \n",
       "\n",
       "                Route Dep_Time  Arrival_Time Duration Total_Stops  \\\n",
       "0     DEL → BOM → COK    17:30  04:25 07 Jun  10h 55m      1 stop   \n",
       "1     CCU → MAA → BLR    06:20         10:20       4h      1 stop   \n",
       "2     DEL → BOM → COK    19:15  19:00 22 May  23h 45m      1 stop   \n",
       "3     DEL → BOM → COK    08:00         21:00      13h      1 stop   \n",
       "4           BLR → DEL    23:55  02:45 25 Jun   2h 50m    non-stop   \n",
       "...               ...      ...           ...      ...         ...   \n",
       "2666  CCU → DEL → BLR    20:30  20:25 07 Jun  23h 55m      1 stop   \n",
       "2667        CCU → BLR    14:20         16:55   2h 35m    non-stop   \n",
       "2668  DEL → BOM → COK    21:50  04:25 07 Mar   6h 35m      1 stop   \n",
       "2669  DEL → BOM → COK    04:00         19:15  15h 15m      1 stop   \n",
       "2670  DEL → BOM → COK    04:55         19:15  14h 20m      1 stop   \n",
       "\n",
       "                  Additional_Info  \n",
       "0                         No info  \n",
       "1                         No info  \n",
       "2     In-flight meal not included  \n",
       "3                         No info  \n",
       "4                         No info  \n",
       "...                           ...  \n",
       "2666                      No info  \n",
       "2667                      No info  \n",
       "2668                      No info  \n",
       "2669                      No info  \n",
       "2670                      No info  \n",
       "\n",
       "[2671 rows x 10 columns]"
      ]
     },
     "execution_count": 8,
     "metadata": {},
     "output_type": "execute_result"
    }
   ],
   "source": [
    "test"
   ]
  },
  {
   "cell_type": "code",
   "execution_count": 9,
   "id": "ff773abc",
   "metadata": {},
   "outputs": [
    {
     "name": "stdout",
     "output_type": "stream",
     "text": [
      "Train_data: (10683, 11)\n",
      "Test_data: (2671, 10)\n"
     ]
    }
   ],
   "source": [
    "print('Train_data:',train.shape)\n",
    "print('Test_data:',test.shape)"
   ]
  },
  {
   "cell_type": "code",
   "execution_count": 10,
   "id": "352c7185",
   "metadata": {},
   "outputs": [
    {
     "data": {
      "text/plain": [
       "Index(['Airline', 'Date_of_Journey', 'Source', 'Destination', 'Route',\n",
       "       'Dep_Time', 'Arrival_Time', 'Duration', 'Total_Stops',\n",
       "       'Additional_Info', 'Price'],\n",
       "      dtype='object')"
      ]
     },
     "execution_count": 10,
     "metadata": {},
     "output_type": "execute_result"
    }
   ],
   "source": [
    "train.columns"
   ]
  },
  {
   "cell_type": "code",
   "execution_count": 11,
   "id": "47e09b09",
   "metadata": {},
   "outputs": [
    {
     "data": {
      "text/plain": [
       "Index(['Airline', 'Date_of_Journey', 'Source', 'Destination', 'Route',\n",
       "       'Dep_Time', 'Arrival_Time', 'Duration', 'Total_Stops',\n",
       "       'Additional_Info'],\n",
       "      dtype='object')"
      ]
     },
     "execution_count": 11,
     "metadata": {},
     "output_type": "execute_result"
    }
   ],
   "source": [
    "test.columns"
   ]
  },
  {
   "cell_type": "code",
   "execution_count": 12,
   "id": "715685d7",
   "metadata": {},
   "outputs": [
    {
     "data": {
      "text/plain": [
       "Airline            0\n",
       "Date_of_Journey    0\n",
       "Source             0\n",
       "Destination        0\n",
       "Route              1\n",
       "Dep_Time           0\n",
       "Arrival_Time       0\n",
       "Duration           0\n",
       "Total_Stops        1\n",
       "Additional_Info    0\n",
       "Price              0\n",
       "dtype: int64"
      ]
     },
     "execution_count": 12,
     "metadata": {},
     "output_type": "execute_result"
    }
   ],
   "source": [
    "train.isnull().sum()"
   ]
  },
  {
   "cell_type": "code",
   "execution_count": 13,
   "id": "b00f0ca2",
   "metadata": {},
   "outputs": [
    {
     "data": {
      "text/plain": [
       "Airline            0\n",
       "Date_of_Journey    0\n",
       "Source             0\n",
       "Destination        0\n",
       "Route              0\n",
       "Dep_Time           0\n",
       "Arrival_Time       0\n",
       "Duration           0\n",
       "Total_Stops        0\n",
       "Additional_Info    0\n",
       "dtype: int64"
      ]
     },
     "execution_count": 13,
     "metadata": {},
     "output_type": "execute_result"
    }
   ],
   "source": [
    "test.isnull().sum()"
   ]
  },
  {
   "cell_type": "code",
   "execution_count": 14,
   "id": "9246acb7",
   "metadata": {},
   "outputs": [],
   "source": [
    "#combining train and test datasets into single dataframe\n",
    "train['source']='train'\n",
    "test['source']='test'\n",
    "flight=pd.concat([train,test],ignore_index=True)"
   ]
  },
  {
   "cell_type": "code",
   "execution_count": 15,
   "id": "771f8329",
   "metadata": {},
   "outputs": [
    {
     "data": {
      "text/html": [
       "<div>\n",
       "<style scoped>\n",
       "    .dataframe tbody tr th:only-of-type {\n",
       "        vertical-align: middle;\n",
       "    }\n",
       "\n",
       "    .dataframe tbody tr th {\n",
       "        vertical-align: top;\n",
       "    }\n",
       "\n",
       "    .dataframe thead th {\n",
       "        text-align: right;\n",
       "    }\n",
       "</style>\n",
       "<table border=\"1\" class=\"dataframe\">\n",
       "  <thead>\n",
       "    <tr style=\"text-align: right;\">\n",
       "      <th></th>\n",
       "      <th>Airline</th>\n",
       "      <th>Date_of_Journey</th>\n",
       "      <th>Source</th>\n",
       "      <th>Destination</th>\n",
       "      <th>Route</th>\n",
       "      <th>Dep_Time</th>\n",
       "      <th>Arrival_Time</th>\n",
       "      <th>Duration</th>\n",
       "      <th>Total_Stops</th>\n",
       "      <th>Additional_Info</th>\n",
       "      <th>Price</th>\n",
       "      <th>source</th>\n",
       "    </tr>\n",
       "  </thead>\n",
       "  <tbody>\n",
       "    <tr>\n",
       "      <th>0</th>\n",
       "      <td>IndiGo</td>\n",
       "      <td>24/03/2019</td>\n",
       "      <td>Banglore</td>\n",
       "      <td>New Delhi</td>\n",
       "      <td>BLR → DEL</td>\n",
       "      <td>22:20</td>\n",
       "      <td>01:10 22 Mar</td>\n",
       "      <td>2h 50m</td>\n",
       "      <td>non-stop</td>\n",
       "      <td>No info</td>\n",
       "      <td>3897.0</td>\n",
       "      <td>train</td>\n",
       "    </tr>\n",
       "    <tr>\n",
       "      <th>1</th>\n",
       "      <td>Air India</td>\n",
       "      <td>1/05/2019</td>\n",
       "      <td>Kolkata</td>\n",
       "      <td>Banglore</td>\n",
       "      <td>CCU → IXR → BBI → BLR</td>\n",
       "      <td>05:50</td>\n",
       "      <td>13:15</td>\n",
       "      <td>7h 25m</td>\n",
       "      <td>2 stops</td>\n",
       "      <td>No info</td>\n",
       "      <td>7662.0</td>\n",
       "      <td>train</td>\n",
       "    </tr>\n",
       "    <tr>\n",
       "      <th>2</th>\n",
       "      <td>Jet Airways</td>\n",
       "      <td>9/06/2019</td>\n",
       "      <td>Delhi</td>\n",
       "      <td>Cochin</td>\n",
       "      <td>DEL → LKO → BOM → COK</td>\n",
       "      <td>09:25</td>\n",
       "      <td>04:25 10 Jun</td>\n",
       "      <td>19h</td>\n",
       "      <td>2 stops</td>\n",
       "      <td>No info</td>\n",
       "      <td>13882.0</td>\n",
       "      <td>train</td>\n",
       "    </tr>\n",
       "    <tr>\n",
       "      <th>3</th>\n",
       "      <td>IndiGo</td>\n",
       "      <td>12/05/2019</td>\n",
       "      <td>Kolkata</td>\n",
       "      <td>Banglore</td>\n",
       "      <td>CCU → NAG → BLR</td>\n",
       "      <td>18:05</td>\n",
       "      <td>23:30</td>\n",
       "      <td>5h 25m</td>\n",
       "      <td>1 stop</td>\n",
       "      <td>No info</td>\n",
       "      <td>6218.0</td>\n",
       "      <td>train</td>\n",
       "    </tr>\n",
       "    <tr>\n",
       "      <th>4</th>\n",
       "      <td>IndiGo</td>\n",
       "      <td>01/03/2019</td>\n",
       "      <td>Banglore</td>\n",
       "      <td>New Delhi</td>\n",
       "      <td>BLR → NAG → DEL</td>\n",
       "      <td>16:50</td>\n",
       "      <td>21:35</td>\n",
       "      <td>4h 45m</td>\n",
       "      <td>1 stop</td>\n",
       "      <td>No info</td>\n",
       "      <td>13302.0</td>\n",
       "      <td>train</td>\n",
       "    </tr>\n",
       "    <tr>\n",
       "      <th>...</th>\n",
       "      <td>...</td>\n",
       "      <td>...</td>\n",
       "      <td>...</td>\n",
       "      <td>...</td>\n",
       "      <td>...</td>\n",
       "      <td>...</td>\n",
       "      <td>...</td>\n",
       "      <td>...</td>\n",
       "      <td>...</td>\n",
       "      <td>...</td>\n",
       "      <td>...</td>\n",
       "      <td>...</td>\n",
       "    </tr>\n",
       "    <tr>\n",
       "      <th>13349</th>\n",
       "      <td>Air India</td>\n",
       "      <td>6/06/2019</td>\n",
       "      <td>Kolkata</td>\n",
       "      <td>Banglore</td>\n",
       "      <td>CCU → DEL → BLR</td>\n",
       "      <td>20:30</td>\n",
       "      <td>20:25 07 Jun</td>\n",
       "      <td>23h 55m</td>\n",
       "      <td>1 stop</td>\n",
       "      <td>No info</td>\n",
       "      <td>NaN</td>\n",
       "      <td>test</td>\n",
       "    </tr>\n",
       "    <tr>\n",
       "      <th>13350</th>\n",
       "      <td>IndiGo</td>\n",
       "      <td>27/03/2019</td>\n",
       "      <td>Kolkata</td>\n",
       "      <td>Banglore</td>\n",
       "      <td>CCU → BLR</td>\n",
       "      <td>14:20</td>\n",
       "      <td>16:55</td>\n",
       "      <td>2h 35m</td>\n",
       "      <td>non-stop</td>\n",
       "      <td>No info</td>\n",
       "      <td>NaN</td>\n",
       "      <td>test</td>\n",
       "    </tr>\n",
       "    <tr>\n",
       "      <th>13351</th>\n",
       "      <td>Jet Airways</td>\n",
       "      <td>6/03/2019</td>\n",
       "      <td>Delhi</td>\n",
       "      <td>Cochin</td>\n",
       "      <td>DEL → BOM → COK</td>\n",
       "      <td>21:50</td>\n",
       "      <td>04:25 07 Mar</td>\n",
       "      <td>6h 35m</td>\n",
       "      <td>1 stop</td>\n",
       "      <td>No info</td>\n",
       "      <td>NaN</td>\n",
       "      <td>test</td>\n",
       "    </tr>\n",
       "    <tr>\n",
       "      <th>13352</th>\n",
       "      <td>Air India</td>\n",
       "      <td>6/03/2019</td>\n",
       "      <td>Delhi</td>\n",
       "      <td>Cochin</td>\n",
       "      <td>DEL → BOM → COK</td>\n",
       "      <td>04:00</td>\n",
       "      <td>19:15</td>\n",
       "      <td>15h 15m</td>\n",
       "      <td>1 stop</td>\n",
       "      <td>No info</td>\n",
       "      <td>NaN</td>\n",
       "      <td>test</td>\n",
       "    </tr>\n",
       "    <tr>\n",
       "      <th>13353</th>\n",
       "      <td>Multiple carriers</td>\n",
       "      <td>15/06/2019</td>\n",
       "      <td>Delhi</td>\n",
       "      <td>Cochin</td>\n",
       "      <td>DEL → BOM → COK</td>\n",
       "      <td>04:55</td>\n",
       "      <td>19:15</td>\n",
       "      <td>14h 20m</td>\n",
       "      <td>1 stop</td>\n",
       "      <td>No info</td>\n",
       "      <td>NaN</td>\n",
       "      <td>test</td>\n",
       "    </tr>\n",
       "  </tbody>\n",
       "</table>\n",
       "<p>13354 rows × 12 columns</p>\n",
       "</div>"
      ],
      "text/plain": [
       "                 Airline Date_of_Journey    Source Destination  \\\n",
       "0                 IndiGo      24/03/2019  Banglore   New Delhi   \n",
       "1              Air India       1/05/2019   Kolkata    Banglore   \n",
       "2            Jet Airways       9/06/2019     Delhi      Cochin   \n",
       "3                 IndiGo      12/05/2019   Kolkata    Banglore   \n",
       "4                 IndiGo      01/03/2019  Banglore   New Delhi   \n",
       "...                  ...             ...       ...         ...   \n",
       "13349          Air India       6/06/2019   Kolkata    Banglore   \n",
       "13350             IndiGo      27/03/2019   Kolkata    Banglore   \n",
       "13351        Jet Airways       6/03/2019     Delhi      Cochin   \n",
       "13352          Air India       6/03/2019     Delhi      Cochin   \n",
       "13353  Multiple carriers      15/06/2019     Delhi      Cochin   \n",
       "\n",
       "                       Route Dep_Time  Arrival_Time Duration Total_Stops  \\\n",
       "0                  BLR → DEL    22:20  01:10 22 Mar   2h 50m    non-stop   \n",
       "1      CCU → IXR → BBI → BLR    05:50         13:15   7h 25m     2 stops   \n",
       "2      DEL → LKO → BOM → COK    09:25  04:25 10 Jun      19h     2 stops   \n",
       "3            CCU → NAG → BLR    18:05         23:30   5h 25m      1 stop   \n",
       "4            BLR → NAG → DEL    16:50         21:35   4h 45m      1 stop   \n",
       "...                      ...      ...           ...      ...         ...   \n",
       "13349        CCU → DEL → BLR    20:30  20:25 07 Jun  23h 55m      1 stop   \n",
       "13350              CCU → BLR    14:20         16:55   2h 35m    non-stop   \n",
       "13351        DEL → BOM → COK    21:50  04:25 07 Mar   6h 35m      1 stop   \n",
       "13352        DEL → BOM → COK    04:00         19:15  15h 15m      1 stop   \n",
       "13353        DEL → BOM → COK    04:55         19:15  14h 20m      1 stop   \n",
       "\n",
       "      Additional_Info    Price source  \n",
       "0             No info   3897.0  train  \n",
       "1             No info   7662.0  train  \n",
       "2             No info  13882.0  train  \n",
       "3             No info   6218.0  train  \n",
       "4             No info  13302.0  train  \n",
       "...               ...      ...    ...  \n",
       "13349         No info      NaN   test  \n",
       "13350         No info      NaN   test  \n",
       "13351         No info      NaN   test  \n",
       "13352         No info      NaN   test  \n",
       "13353         No info      NaN   test  \n",
       "\n",
       "[13354 rows x 12 columns]"
      ]
     },
     "execution_count": 15,
     "metadata": {},
     "output_type": "execute_result"
    }
   ],
   "source": [
    "flight"
   ]
  },
  {
   "cell_type": "code",
   "execution_count": 52,
   "id": "e36ca47e",
   "metadata": {},
   "outputs": [
    {
     "data": {
      "text/plain": [
       "(13354, 12)"
      ]
     },
     "execution_count": 52,
     "metadata": {},
     "output_type": "execute_result"
    }
   ],
   "source": [
    "flight.shape"
   ]
  },
  {
   "cell_type": "code",
   "execution_count": 16,
   "id": "aaf4e140",
   "metadata": {},
   "outputs": [
    {
     "data": {
      "text/plain": [
       "Airline               0\n",
       "Date_of_Journey       0\n",
       "Source                0\n",
       "Destination           0\n",
       "Route                 1\n",
       "Dep_Time              0\n",
       "Arrival_Time          0\n",
       "Duration              0\n",
       "Total_Stops           1\n",
       "Additional_Info       0\n",
       "Price              2671\n",
       "source                0\n",
       "dtype: int64"
      ]
     },
     "execution_count": 16,
     "metadata": {},
     "output_type": "execute_result"
    }
   ],
   "source": [
    "flight.isnull().sum()"
   ]
  },
  {
   "cell_type": "markdown",
   "id": "f16b4ed9",
   "metadata": {},
   "source": [
    "# Label Encoding"
   ]
  },
  {
   "cell_type": "code",
   "execution_count": 31,
   "id": "31958c94",
   "metadata": {},
   "outputs": [
    {
     "data": {
      "text/html": [
       "<div>\n",
       "<style scoped>\n",
       "    .dataframe tbody tr th:only-of-type {\n",
       "        vertical-align: middle;\n",
       "    }\n",
       "\n",
       "    .dataframe tbody tr th {\n",
       "        vertical-align: top;\n",
       "    }\n",
       "\n",
       "    .dataframe thead th {\n",
       "        text-align: right;\n",
       "    }\n",
       "</style>\n",
       "<table border=\"1\" class=\"dataframe\">\n",
       "  <thead>\n",
       "    <tr style=\"text-align: right;\">\n",
       "      <th></th>\n",
       "      <th>Airline</th>\n",
       "      <th>Date_of_Journey</th>\n",
       "      <th>Source</th>\n",
       "      <th>Destination</th>\n",
       "      <th>Route</th>\n",
       "      <th>Dep_Time</th>\n",
       "      <th>Arrival_Time</th>\n",
       "      <th>Duration</th>\n",
       "      <th>Total_Stops</th>\n",
       "      <th>Additional_Info</th>\n",
       "      <th>Price</th>\n",
       "      <th>source</th>\n",
       "    </tr>\n",
       "  </thead>\n",
       "  <tbody>\n",
       "    <tr>\n",
       "      <th>0</th>\n",
       "      <td>3</td>\n",
       "      <td>24</td>\n",
       "      <td>0</td>\n",
       "      <td>5</td>\n",
       "      <td>18</td>\n",
       "      <td>211</td>\n",
       "      <td>264</td>\n",
       "      <td>242</td>\n",
       "      <td>4</td>\n",
       "      <td>8</td>\n",
       "      <td>3897.0</td>\n",
       "      <td>train</td>\n",
       "    </tr>\n",
       "    <tr>\n",
       "      <th>1</th>\n",
       "      <td>1</td>\n",
       "      <td>6</td>\n",
       "      <td>3</td>\n",
       "      <td>0</td>\n",
       "      <td>87</td>\n",
       "      <td>31</td>\n",
       "      <td>986</td>\n",
       "      <td>342</td>\n",
       "      <td>1</td>\n",
       "      <td>8</td>\n",
       "      <td>7662.0</td>\n",
       "      <td>train</td>\n",
       "    </tr>\n",
       "    <tr>\n",
       "      <th>2</th>\n",
       "      <td>4</td>\n",
       "      <td>43</td>\n",
       "      <td>2</td>\n",
       "      <td>1</td>\n",
       "      <td>122</td>\n",
       "      <td>70</td>\n",
       "      <td>468</td>\n",
       "      <td>106</td>\n",
       "      <td>1</td>\n",
       "      <td>8</td>\n",
       "      <td>13882.0</td>\n",
       "      <td>train</td>\n",
       "    </tr>\n",
       "    <tr>\n",
       "      <th>3</th>\n",
       "      <td>3</td>\n",
       "      <td>10</td>\n",
       "      <td>3</td>\n",
       "      <td>0</td>\n",
       "      <td>95</td>\n",
       "      <td>164</td>\n",
       "      <td>1430</td>\n",
       "      <td>317</td>\n",
       "      <td>0</td>\n",
       "      <td>8</td>\n",
       "      <td>6218.0</td>\n",
       "      <td>train</td>\n",
       "    </tr>\n",
       "    <tr>\n",
       "      <th>4</th>\n",
       "      <td>3</td>\n",
       "      <td>0</td>\n",
       "      <td>0</td>\n",
       "      <td>5</td>\n",
       "      <td>29</td>\n",
       "      <td>149</td>\n",
       "      <td>1331</td>\n",
       "      <td>309</td>\n",
       "      <td>0</td>\n",
       "      <td>8</td>\n",
       "      <td>13302.0</td>\n",
       "      <td>train</td>\n",
       "    </tr>\n",
       "    <tr>\n",
       "      <th>...</th>\n",
       "      <td>...</td>\n",
       "      <td>...</td>\n",
       "      <td>...</td>\n",
       "      <td>...</td>\n",
       "      <td>...</td>\n",
       "      <td>...</td>\n",
       "      <td>...</td>\n",
       "      <td>...</td>\n",
       "      <td>...</td>\n",
       "      <td>...</td>\n",
       "      <td>...</td>\n",
       "      <td>...</td>\n",
       "    </tr>\n",
       "    <tr>\n",
       "      <th>13349</th>\n",
       "      <td>1</td>\n",
       "      <td>39</td>\n",
       "      <td>3</td>\n",
       "      <td>0</td>\n",
       "      <td>76</td>\n",
       "      <td>190</td>\n",
       "      <td>1283</td>\n",
       "      <td>168</td>\n",
       "      <td>0</td>\n",
       "      <td>8</td>\n",
       "      <td>NaN</td>\n",
       "      <td>test</td>\n",
       "    </tr>\n",
       "    <tr>\n",
       "      <th>13350</th>\n",
       "      <td>3</td>\n",
       "      <td>28</td>\n",
       "      <td>3</td>\n",
       "      <td>0</td>\n",
       "      <td>67</td>\n",
       "      <td>122</td>\n",
       "      <td>1097</td>\n",
       "      <td>239</td>\n",
       "      <td>4</td>\n",
       "      <td>8</td>\n",
       "      <td>NaN</td>\n",
       "      <td>test</td>\n",
       "    </tr>\n",
       "    <tr>\n",
       "      <th>13351</th>\n",
       "      <td>4</td>\n",
       "      <td>36</td>\n",
       "      <td>2</td>\n",
       "      <td>1</td>\n",
       "      <td>108</td>\n",
       "      <td>205</td>\n",
       "      <td>464</td>\n",
       "      <td>332</td>\n",
       "      <td>0</td>\n",
       "      <td>8</td>\n",
       "      <td>NaN</td>\n",
       "      <td>test</td>\n",
       "    </tr>\n",
       "    <tr>\n",
       "      <th>13352</th>\n",
       "      <td>1</td>\n",
       "      <td>36</td>\n",
       "      <td>2</td>\n",
       "      <td>1</td>\n",
       "      <td>108</td>\n",
       "      <td>16</td>\n",
       "      <td>1212</td>\n",
       "      <td>62</td>\n",
       "      <td>0</td>\n",
       "      <td>8</td>\n",
       "      <td>NaN</td>\n",
       "      <td>test</td>\n",
       "    </tr>\n",
       "    <tr>\n",
       "      <th>13353</th>\n",
       "      <td>6</td>\n",
       "      <td>15</td>\n",
       "      <td>2</td>\n",
       "      <td>1</td>\n",
       "      <td>108</td>\n",
       "      <td>21</td>\n",
       "      <td>1212</td>\n",
       "      <td>51</td>\n",
       "      <td>0</td>\n",
       "      <td>8</td>\n",
       "      <td>NaN</td>\n",
       "      <td>test</td>\n",
       "    </tr>\n",
       "  </tbody>\n",
       "</table>\n",
       "<p>13354 rows × 12 columns</p>\n",
       "</div>"
      ],
      "text/plain": [
       "       Airline  Date_of_Journey  Source  Destination  Route  Dep_Time  \\\n",
       "0            3               24       0            5     18       211   \n",
       "1            1                6       3            0     87        31   \n",
       "2            4               43       2            1    122        70   \n",
       "3            3               10       3            0     95       164   \n",
       "4            3                0       0            5     29       149   \n",
       "...        ...              ...     ...          ...    ...       ...   \n",
       "13349        1               39       3            0     76       190   \n",
       "13350        3               28       3            0     67       122   \n",
       "13351        4               36       2            1    108       205   \n",
       "13352        1               36       2            1    108        16   \n",
       "13353        6               15       2            1    108        21   \n",
       "\n",
       "       Arrival_Time  Duration  Total_Stops  Additional_Info    Price source  \n",
       "0               264       242            4                8   3897.0  train  \n",
       "1               986       342            1                8   7662.0  train  \n",
       "2               468       106            1                8  13882.0  train  \n",
       "3              1430       317            0                8   6218.0  train  \n",
       "4              1331       309            0                8  13302.0  train  \n",
       "...             ...       ...          ...              ...      ...    ...  \n",
       "13349          1283       168            0                8      NaN   test  \n",
       "13350          1097       239            4                8      NaN   test  \n",
       "13351           464       332            0                8      NaN   test  \n",
       "13352          1212        62            0                8      NaN   test  \n",
       "13353          1212        51            0                8      NaN   test  \n",
       "\n",
       "[13354 rows x 12 columns]"
      ]
     },
     "execution_count": 31,
     "metadata": {},
     "output_type": "execute_result"
    }
   ],
   "source": [
    "from sklearn.preprocessing import LabelEncoder\n",
    "le=LabelEncoder()\n",
    "\n",
    "flight['Airline']=le.fit_transform(flight['Airline'])\n",
    "flight['Date_of_Journey']=le.fit_transform(flight['Date_of_Journey'])\n",
    "flight['Source']=le.fit_transform(flight['Source'])\n",
    "flight['Destination']=le.fit_transform(flight['Destination'])\n",
    "flight['Route']=le.fit_transform(flight['Route'])\n",
    "flight['Dep_Time']=le.fit_transform(flight['Dep_Time'])\n",
    "flight['Arrival_Time']=le.fit_transform(flight['Arrival_Time'])\n",
    "flight['Duration']=le.fit_transform(flight['Duration'])\n",
    "flight['Total_Stops']=le.fit_transform(flight['Total_Stops'])\n",
    "flight['Additional_Info']=le.fit_transform(flight['Additional_Info'])\n",
    "\n",
    "flight"
   ]
  },
  {
   "cell_type": "code",
   "execution_count": 32,
   "id": "a62b4f53",
   "metadata": {},
   "outputs": [
    {
     "data": {
      "text/plain": [
       "Airline               0\n",
       "Date_of_Journey       0\n",
       "Source                0\n",
       "Destination           0\n",
       "Route                 0\n",
       "Dep_Time              0\n",
       "Arrival_Time          0\n",
       "Duration              0\n",
       "Total_Stops           0\n",
       "Additional_Info       0\n",
       "Price              2671\n",
       "source                0\n",
       "dtype: int64"
      ]
     },
     "execution_count": 32,
     "metadata": {},
     "output_type": "execute_result"
    }
   ],
   "source": [
    "flight.isnull().sum()"
   ]
  },
  {
   "cell_type": "markdown",
   "id": "bd7b5402",
   "metadata": {},
   "source": [
    "# Filling NaN values"
   ]
  },
  {
   "cell_type": "code",
   "execution_count": 33,
   "id": "555a50ea",
   "metadata": {},
   "outputs": [],
   "source": [
    "import numpy as np\n",
    "flight=flight.replace(np.NaN,flight['Price'].mean())"
   ]
  },
  {
   "cell_type": "code",
   "execution_count": 34,
   "id": "6e4a85d0",
   "metadata": {},
   "outputs": [
    {
     "data": {
      "text/html": [
       "<div>\n",
       "<style scoped>\n",
       "    .dataframe tbody tr th:only-of-type {\n",
       "        vertical-align: middle;\n",
       "    }\n",
       "\n",
       "    .dataframe tbody tr th {\n",
       "        vertical-align: top;\n",
       "    }\n",
       "\n",
       "    .dataframe thead th {\n",
       "        text-align: right;\n",
       "    }\n",
       "</style>\n",
       "<table border=\"1\" class=\"dataframe\">\n",
       "  <thead>\n",
       "    <tr style=\"text-align: right;\">\n",
       "      <th></th>\n",
       "      <th>Airline</th>\n",
       "      <th>Date_of_Journey</th>\n",
       "      <th>Source</th>\n",
       "      <th>Destination</th>\n",
       "      <th>Route</th>\n",
       "      <th>Dep_Time</th>\n",
       "      <th>Arrival_Time</th>\n",
       "      <th>Duration</th>\n",
       "      <th>Total_Stops</th>\n",
       "      <th>Additional_Info</th>\n",
       "      <th>Price</th>\n",
       "      <th>source</th>\n",
       "    </tr>\n",
       "  </thead>\n",
       "  <tbody>\n",
       "    <tr>\n",
       "      <th>0</th>\n",
       "      <td>3</td>\n",
       "      <td>24</td>\n",
       "      <td>0</td>\n",
       "      <td>5</td>\n",
       "      <td>18</td>\n",
       "      <td>211</td>\n",
       "      <td>264</td>\n",
       "      <td>242</td>\n",
       "      <td>4</td>\n",
       "      <td>8</td>\n",
       "      <td>3897.000000</td>\n",
       "      <td>train</td>\n",
       "    </tr>\n",
       "    <tr>\n",
       "      <th>1</th>\n",
       "      <td>1</td>\n",
       "      <td>6</td>\n",
       "      <td>3</td>\n",
       "      <td>0</td>\n",
       "      <td>87</td>\n",
       "      <td>31</td>\n",
       "      <td>986</td>\n",
       "      <td>342</td>\n",
       "      <td>1</td>\n",
       "      <td>8</td>\n",
       "      <td>7662.000000</td>\n",
       "      <td>train</td>\n",
       "    </tr>\n",
       "    <tr>\n",
       "      <th>2</th>\n",
       "      <td>4</td>\n",
       "      <td>43</td>\n",
       "      <td>2</td>\n",
       "      <td>1</td>\n",
       "      <td>122</td>\n",
       "      <td>70</td>\n",
       "      <td>468</td>\n",
       "      <td>106</td>\n",
       "      <td>1</td>\n",
       "      <td>8</td>\n",
       "      <td>13882.000000</td>\n",
       "      <td>train</td>\n",
       "    </tr>\n",
       "    <tr>\n",
       "      <th>3</th>\n",
       "      <td>3</td>\n",
       "      <td>10</td>\n",
       "      <td>3</td>\n",
       "      <td>0</td>\n",
       "      <td>95</td>\n",
       "      <td>164</td>\n",
       "      <td>1430</td>\n",
       "      <td>317</td>\n",
       "      <td>0</td>\n",
       "      <td>8</td>\n",
       "      <td>6218.000000</td>\n",
       "      <td>train</td>\n",
       "    </tr>\n",
       "    <tr>\n",
       "      <th>4</th>\n",
       "      <td>3</td>\n",
       "      <td>0</td>\n",
       "      <td>0</td>\n",
       "      <td>5</td>\n",
       "      <td>29</td>\n",
       "      <td>149</td>\n",
       "      <td>1331</td>\n",
       "      <td>309</td>\n",
       "      <td>0</td>\n",
       "      <td>8</td>\n",
       "      <td>13302.000000</td>\n",
       "      <td>train</td>\n",
       "    </tr>\n",
       "    <tr>\n",
       "      <th>...</th>\n",
       "      <td>...</td>\n",
       "      <td>...</td>\n",
       "      <td>...</td>\n",
       "      <td>...</td>\n",
       "      <td>...</td>\n",
       "      <td>...</td>\n",
       "      <td>...</td>\n",
       "      <td>...</td>\n",
       "      <td>...</td>\n",
       "      <td>...</td>\n",
       "      <td>...</td>\n",
       "      <td>...</td>\n",
       "    </tr>\n",
       "    <tr>\n",
       "      <th>13349</th>\n",
       "      <td>1</td>\n",
       "      <td>39</td>\n",
       "      <td>3</td>\n",
       "      <td>0</td>\n",
       "      <td>76</td>\n",
       "      <td>190</td>\n",
       "      <td>1283</td>\n",
       "      <td>168</td>\n",
       "      <td>0</td>\n",
       "      <td>8</td>\n",
       "      <td>9087.064121</td>\n",
       "      <td>test</td>\n",
       "    </tr>\n",
       "    <tr>\n",
       "      <th>13350</th>\n",
       "      <td>3</td>\n",
       "      <td>28</td>\n",
       "      <td>3</td>\n",
       "      <td>0</td>\n",
       "      <td>67</td>\n",
       "      <td>122</td>\n",
       "      <td>1097</td>\n",
       "      <td>239</td>\n",
       "      <td>4</td>\n",
       "      <td>8</td>\n",
       "      <td>9087.064121</td>\n",
       "      <td>test</td>\n",
       "    </tr>\n",
       "    <tr>\n",
       "      <th>13351</th>\n",
       "      <td>4</td>\n",
       "      <td>36</td>\n",
       "      <td>2</td>\n",
       "      <td>1</td>\n",
       "      <td>108</td>\n",
       "      <td>205</td>\n",
       "      <td>464</td>\n",
       "      <td>332</td>\n",
       "      <td>0</td>\n",
       "      <td>8</td>\n",
       "      <td>9087.064121</td>\n",
       "      <td>test</td>\n",
       "    </tr>\n",
       "    <tr>\n",
       "      <th>13352</th>\n",
       "      <td>1</td>\n",
       "      <td>36</td>\n",
       "      <td>2</td>\n",
       "      <td>1</td>\n",
       "      <td>108</td>\n",
       "      <td>16</td>\n",
       "      <td>1212</td>\n",
       "      <td>62</td>\n",
       "      <td>0</td>\n",
       "      <td>8</td>\n",
       "      <td>9087.064121</td>\n",
       "      <td>test</td>\n",
       "    </tr>\n",
       "    <tr>\n",
       "      <th>13353</th>\n",
       "      <td>6</td>\n",
       "      <td>15</td>\n",
       "      <td>2</td>\n",
       "      <td>1</td>\n",
       "      <td>108</td>\n",
       "      <td>21</td>\n",
       "      <td>1212</td>\n",
       "      <td>51</td>\n",
       "      <td>0</td>\n",
       "      <td>8</td>\n",
       "      <td>9087.064121</td>\n",
       "      <td>test</td>\n",
       "    </tr>\n",
       "  </tbody>\n",
       "</table>\n",
       "<p>13354 rows × 12 columns</p>\n",
       "</div>"
      ],
      "text/plain": [
       "       Airline  Date_of_Journey  Source  Destination  Route  Dep_Time  \\\n",
       "0            3               24       0            5     18       211   \n",
       "1            1                6       3            0     87        31   \n",
       "2            4               43       2            1    122        70   \n",
       "3            3               10       3            0     95       164   \n",
       "4            3                0       0            5     29       149   \n",
       "...        ...              ...     ...          ...    ...       ...   \n",
       "13349        1               39       3            0     76       190   \n",
       "13350        3               28       3            0     67       122   \n",
       "13351        4               36       2            1    108       205   \n",
       "13352        1               36       2            1    108        16   \n",
       "13353        6               15       2            1    108        21   \n",
       "\n",
       "       Arrival_Time  Duration  Total_Stops  Additional_Info         Price  \\\n",
       "0               264       242            4                8   3897.000000   \n",
       "1               986       342            1                8   7662.000000   \n",
       "2               468       106            1                8  13882.000000   \n",
       "3              1430       317            0                8   6218.000000   \n",
       "4              1331       309            0                8  13302.000000   \n",
       "...             ...       ...          ...              ...           ...   \n",
       "13349          1283       168            0                8   9087.064121   \n",
       "13350          1097       239            4                8   9087.064121   \n",
       "13351           464       332            0                8   9087.064121   \n",
       "13352          1212        62            0                8   9087.064121   \n",
       "13353          1212        51            0                8   9087.064121   \n",
       "\n",
       "      source  \n",
       "0      train  \n",
       "1      train  \n",
       "2      train  \n",
       "3      train  \n",
       "4      train  \n",
       "...      ...  \n",
       "13349   test  \n",
       "13350   test  \n",
       "13351   test  \n",
       "13352   test  \n",
       "13353   test  \n",
       "\n",
       "[13354 rows x 12 columns]"
      ]
     },
     "execution_count": 34,
     "metadata": {},
     "output_type": "execute_result"
    }
   ],
   "source": [
    "flight"
   ]
  },
  {
   "cell_type": "code",
   "execution_count": 35,
   "id": "4db31202",
   "metadata": {},
   "outputs": [
    {
     "data": {
      "text/plain": [
       "Airline            0\n",
       "Date_of_Journey    0\n",
       "Source             0\n",
       "Destination        0\n",
       "Route              0\n",
       "Dep_Time           0\n",
       "Arrival_Time       0\n",
       "Duration           0\n",
       "Total_Stops        0\n",
       "Additional_Info    0\n",
       "Price              0\n",
       "source             0\n",
       "dtype: int64"
      ]
     },
     "execution_count": 35,
     "metadata": {},
     "output_type": "execute_result"
    }
   ],
   "source": [
    "flight.isnull().sum()"
   ]
  },
  {
   "cell_type": "markdown",
   "id": "f2a13ab9",
   "metadata": {},
   "source": [
    "# EDA:"
   ]
  },
  {
   "cell_type": "markdown",
   "id": "a813280a",
   "metadata": {},
   "source": [
    "Visualization:"
   ]
  },
  {
   "cell_type": "code",
   "execution_count": 17,
   "id": "928220e1",
   "metadata": {},
   "outputs": [
    {
     "data": {
      "text/plain": [
       "<AxesSubplot:xlabel='Airline', ylabel='count'>"
      ]
     },
     "execution_count": 17,
     "metadata": {},
     "output_type": "execute_result"
    },
    {
     "data": {
      "image/png": "[encoded data removed]",
      "text/plain": [
       "<Figure size 432x288 with 1 Axes>"
      ]
     },
     "metadata": {
      "needs_background": "light"
     },
     "output_type": "display_data"
    }
   ],
   "source": [
    "sns.countplot(flight['Airline'])"
   ]
  },
  {
   "cell_type": "code",
   "execution_count": 18,
   "id": "f2e9e5fc",
   "metadata": {},
   "outputs": [
    {
     "data": {
      "text/plain": [
       "<AxesSubplot:xlabel='Date_of_Journey', ylabel='count'>"
      ]
     },
     "execution_count": 18,
     "metadata": {},
     "output_type": "execute_result"
    },
    {
     "data": {
      "image/png": "[encoded data removed]",
      "text/plain": [
       "<Figure size 432x288 with 1 Axes>"
      ]
     },
     "metadata": {
      "needs_background": "light"
     },
     "output_type": "display_data"
    }
   ],
   "source": [
    "sns.countplot(flight['Date_of_Journey'])"
   ]
  },
  {
   "cell_type": "code",
   "execution_count": 19,
   "id": "f7c89655",
   "metadata": {},
   "outputs": [
    {
     "data": {
      "text/plain": [
       "<AxesSubplot:xlabel='Source', ylabel='count'>"
      ]
     },
     "execution_count": 19,
     "metadata": {},
     "output_type": "execute_result"
    },
    {
     "data": {
      "image/png": "[encoded data removed]",
      "text/plain": [
       "<Figure size 432x288 with 1 Axes>"
      ]
     },
     "metadata": {
      "needs_background": "light"
     },
     "output_type": "display_data"
    }
   ],
   "source": [
    "sns.countplot(flight['Source'])"
   ]
  },
  {
   "cell_type": "code",
   "execution_count": 20,
   "id": "03f7c475",
   "metadata": {},
   "outputs": [
    {
     "data": {
      "text/plain": [
       "<AxesSubplot:xlabel='Destination', ylabel='count'>"
      ]
     },
     "execution_count": 20,
     "metadata": {},
     "output_type": "execute_result"
    },
    {
     "data": {
      "image/png": "[encoded data removed]",
      "text/plain": [
       "<Figure size 432x288 with 1 Axes>"
      ]
     },
     "metadata": {
      "needs_background": "light"
     },
     "output_type": "display_data"
    }
   ],
   "source": [
    "sns.countplot(flight['Destination'])"
   ]
  },
  {
   "cell_type": "code",
   "execution_count": 21,
   "id": "2013e3bf",
   "metadata": {},
   "outputs": [
    {
     "data": {
      "text/plain": [
       "<AxesSubplot:xlabel='Route', ylabel='count'>"
      ]
     },
     "execution_count": 21,
     "metadata": {},
     "output_type": "execute_result"
    },
    {
     "data": {
      "image/png": "[encoded data removed]",
      "text/plain": [
       "<Figure size 432x288 with 1 Axes>"
      ]
     },
     "metadata": {
      "needs_background": "light"
     },
     "output_type": "display_data"
    }
   ],
   "source": [
    "sns.countplot(flight['Route'])"
   ]
  },
  {
   "cell_type": "code",
   "execution_count": 22,
   "id": "37d5e13c",
   "metadata": {},
   "outputs": [
    {
     "data": {
      "text/plain": [
       "<AxesSubplot:xlabel='Dep_Time', ylabel='count'>"
      ]
     },
     "execution_count": 22,
     "metadata": {},
     "output_type": "execute_result"
    },
    {
     "data": {
      "image/png": "[encoded data removed]",
      "text/plain": [
       "<Figure size 432x288 with 1 Axes>"
      ]
     },
     "metadata": {
      "needs_background": "light"
     },
     "output_type": "display_data"
    }
   ],
   "source": [
    "sns.countplot(flight['Dep_Time'])"
   ]
  },
  {
   "cell_type": "code",
   "execution_count": 23,
   "id": "fd478900",
   "metadata": {},
   "outputs": [
    {
     "data": {
      "text/plain": [
       "<AxesSubplot:xlabel='Arrival_Time', ylabel='count'>"
      ]
     },
     "execution_count": 23,
     "metadata": {},
     "output_type": "execute_result"
    },
    {
     "data": {
      "image/png": "[encoded data removed]",
      "text/plain": [
       "<Figure size 432x288 with 1 Axes>"
      ]
     },
     "metadata": {
      "needs_background": "light"
     },
     "output_type": "display_data"
    }
   ],
   "source": [
    "sns.countplot(flight['Arrival_Time'])"
   ]
  },
  {
   "cell_type": "code",
   "execution_count": 24,
   "id": "5f8f6e0f",
   "metadata": {},
   "outputs": [
    {
     "data": {
      "text/plain": [
       "<AxesSubplot:xlabel='Duration', ylabel='count'>"
      ]
     },
     "execution_count": 24,
     "metadata": {},
     "output_type": "execute_result"
    },
    {
     "data": {
      "image/png": "[encoded data removed]",
      "text/plain": [
       "<Figure size 432x288 with 1 Axes>"
      ]
     },
     "metadata": {
      "needs_background": "light"
     },
     "output_type": "display_data"
    }
   ],
   "source": [
    "sns.countplot(flight['Duration'])"
   ]
  },
  {
   "cell_type": "code",
   "execution_count": 25,
   "id": "5ea13393",
   "metadata": {},
   "outputs": [
    {
     "data": {
      "text/plain": [
       "<AxesSubplot:xlabel='Total_Stops', ylabel='count'>"
      ]
     },
     "execution_count": 25,
     "metadata": {},
     "output_type": "execute_result"
    },
    {
     "data": {
      "image/png": "[encoded data removed]",
      "text/plain": [
       "<Figure size 432x288 with 1 Axes>"
      ]
     },
     "metadata": {
      "needs_background": "light"
     },
     "output_type": "display_data"
    }
   ],
   "source": [
    "sns.countplot(flight['Total_Stops'])"
   ]
  },
  {
   "cell_type": "code",
   "execution_count": 27,
   "id": "aedffc60",
   "metadata": {},
   "outputs": [
    {
     "data": {
      "text/plain": [
       "<AxesSubplot:xlabel='Additional_Info', ylabel='count'>"
      ]
     },
     "execution_count": 27,
     "metadata": {},
     "output_type": "execute_result"
    },
    {
     "data": {
      "image/png": "[encoded data removed]",
      "text/plain": [
       "<Figure size 432x288 with 1 Axes>"
      ]
     },
     "metadata": {
      "needs_background": "light"
     },
     "output_type": "display_data"
    }
   ],
   "source": [
    "sns.countplot(flight['Additional_Info'])"
   ]
  },
  {
   "cell_type": "code",
   "execution_count": 28,
   "id": "83e9fe1b",
   "metadata": {},
   "outputs": [
    {
     "data": {
      "text/plain": [
       "<AxesSubplot:xlabel='Price', ylabel='count'>"
      ]
     },
     "execution_count": 28,
     "metadata": {},
     "output_type": "execute_result"
    },
    {
     "data": {
      "image/png": "[encoded data removed]",
      "text/plain": [
       "<Figure size 432x288 with 1 Axes>"
      ]
     },
     "metadata": {
      "needs_background": "light"
     },
     "output_type": "display_data"
    }
   ],
   "source": [
    "sns.countplot(flight['Price'])"
   ]
  },
  {
   "cell_type": "markdown",
   "id": "b1dd7ba6",
   "metadata": {},
   "source": [
    "# Normal Distribution Curve:"
   ]
  },
  {
   "cell_type": "code",
   "execution_count": 36,
   "id": "83c365a6",
   "metadata": {},
   "outputs": [
    {
     "data": {
      "text/plain": [
       "<AxesSubplot:xlabel='Airline', ylabel='Density'>"
      ]
     },
     "execution_count": 36,
     "metadata": {},
     "output_type": "execute_result"
    },
    {
     "data": {
      "image/png": "[encoded data removed]",
      "text/plain": [
       "<Figure size 432x288 with 1 Axes>"
      ]
     },
     "metadata": {
      "needs_background": "light"
     },
     "output_type": "display_data"
    }
   ],
   "source": [
    "sns.distplot(flight[\"Airline\"])"
   ]
  },
  {
   "cell_type": "code",
   "execution_count": 37,
   "id": "35a283e5",
   "metadata": {},
   "outputs": [
    {
     "data": {
      "text/plain": [
       "<AxesSubplot:xlabel='Date_of_Journey', ylabel='Density'>"
      ]
     },
     "execution_count": 37,
     "metadata": {},
     "output_type": "execute_result"
    },
    {
     "data": {
      "image/png": "[encoded data removed]",
      "text/plain": [
       "<Figure size 432x288 with 1 Axes>"
      ]
     },
     "metadata": {
      "needs_background": "light"
     },
     "output_type": "display_data"
    }
   ],
   "source": [
    "sns.distplot(flight[\"Date_of_Journey\"])"
   ]
  },
  {
   "cell_type": "code",
   "execution_count": 38,
   "id": "efbefcd3",
   "metadata": {},
   "outputs": [
    {
     "data": {
      "text/plain": [
       "<AxesSubplot:xlabel='Source', ylabel='Density'>"
      ]
     },
     "execution_count": 38,
     "metadata": {},
     "output_type": "execute_result"
    },
    {
     "data": {
      "image/png": "[encoded data removed]",
      "text/plain": [
       "<Figure size 432x288 with 1 Axes>"
      ]
     },
     "metadata": {
      "needs_background": "light"
     },
     "output_type": "display_data"
    }
   ],
   "source": [
    "sns.distplot(flight[\"Source\"])"
   ]
  },
  {
   "cell_type": "code",
   "execution_count": 39,
   "id": "92e7c162",
   "metadata": {},
   "outputs": [
    {
     "data": {
      "text/plain": [
       "<AxesSubplot:xlabel='Destination', ylabel='Density'>"
      ]
     },
     "execution_count": 39,
     "metadata": {},
     "output_type": "execute_result"
    },
    {
     "data": {
      "image/png": "[encoded data removed]",
      "text/plain": [
       "<Figure size 432x288 with 1 Axes>"
      ]
     },
     "metadata": {
      "needs_background": "light"
     },
     "output_type": "display_data"
    }
   ],
   "source": [
    "sns.distplot(flight[\"Destination\"])"
   ]
  },
  {
   "cell_type": "code",
   "execution_count": 40,
   "id": "cd811ed6",
   "metadata": {},
   "outputs": [
    {
     "data": {
      "text/plain": [
       "<AxesSubplot:xlabel='Route', ylabel='Density'>"
      ]
     },
     "execution_count": 40,
     "metadata": {},
     "output_type": "execute_result"
    },
    {
     "data": {
      "image/png": "[encoded data removed]",
      "text/plain": [
       "<Figure size 432x288 with 1 Axes>"
      ]
     },
     "metadata": {
      "needs_background": "light"
     },
     "output_type": "display_data"
    }
   ],
   "source": [
    "sns.distplot(flight[\"Route\"])"
   ]
  },
  {
   "cell_type": "code",
   "execution_count": 41,
   "id": "78bd243a",
   "metadata": {},
   "outputs": [
    {
     "data": {
      "text/plain": [
       "<AxesSubplot:xlabel='Dep_Time', ylabel='Density'>"
      ]
     },
     "execution_count": 41,
     "metadata": {},
     "output_type": "execute_result"
    },
    {
     "data": {
      "image/png": "[encoded data removed]",
      "text/plain": [
       "<Figure size 432x288 with 1 Axes>"
      ]
     },
     "metadata": {
      "needs_background": "light"
     },
     "output_type": "display_data"
    }
   ],
   "source": [
    "sns.distplot(flight[\"Dep_Time\"])"
   ]
  },
  {
   "cell_type": "code",
   "execution_count": 42,
   "id": "c7cfc9dd",
   "metadata": {},
   "outputs": [
    {
     "data": {
      "text/plain": [
       "<AxesSubplot:xlabel='Arrival_Time', ylabel='Density'>"
      ]
     },
     "execution_count": 42,
     "metadata": {},
     "output_type": "execute_result"
    },
    {
     "data": {
      "image/png": "[encoded data removed]",
      "text/plain": [
       "<Figure size 432x288 with 1 Axes>"
      ]
     },
     "metadata": {
      "needs_background": "light"
     },
     "output_type": "display_data"
    }
   ],
   "source": [
    "sns.distplot(flight[\"Arrival_Time\"])"
   ]
  },
  {
   "cell_type": "code",
   "execution_count": 43,
   "id": "8c8632c5",
   "metadata": {},
   "outputs": [
    {
     "data": {
      "text/plain": [
       "<AxesSubplot:xlabel='Duration', ylabel='Density'>"
      ]
     },
     "execution_count": 43,
     "metadata": {},
     "output_type": "execute_result"
    },
    {
     "data": {
      "image/png": "[encoded data removed]",
      "text/plain": [
       "<Figure size 432x288 with 1 Axes>"
      ]
     },
     "metadata": {
      "needs_background": "light"
     },
     "output_type": "display_data"
    }
   ],
   "source": [
    "sns.distplot(flight[\"Duration\"])"
   ]
  },
  {
   "cell_type": "code",
   "execution_count": 44,
   "id": "90299db6",
   "metadata": {},
   "outputs": [
    {
     "data": {
      "text/plain": [
       "<AxesSubplot:xlabel='Total_Stops', ylabel='Density'>"
      ]
     },
     "execution_count": 44,
     "metadata": {},
     "output_type": "execute_result"
    },
    {
     "data": {
      "image/png": "[encoded data removed]",
      "text/plain": [
       "<Figure size 432x288 with 1 Axes>"
      ]
     },
     "metadata": {
      "needs_background": "light"
     },
     "output_type": "display_data"
    }
   ],
   "source": [
    "sns.distplot(flight[\"Total_Stops\"])"
   ]
  },
  {
   "cell_type": "code",
   "execution_count": 45,
   "id": "c39f0b8b",
   "metadata": {},
   "outputs": [
    {
     "data": {
      "text/plain": [
       "<AxesSubplot:xlabel='Additional_Info', ylabel='Density'>"
      ]
     },
     "execution_count": 45,
     "metadata": {},
     "output_type": "execute_result"
    },
    {
     "data": {
      "image/png": "[encoded data removed]",
      "text/plain": [
       "<Figure size 432x288 with 1 Axes>"
      ]
     },
     "metadata": {
      "needs_background": "light"
     },
     "output_type": "display_data"
    }
   ],
   "source": [
    "sns.distplot(flight[\"Additional_Info\"])"
   ]
  },
  {
   "cell_type": "code",
   "execution_count": 46,
   "id": "cc5386e6",
   "metadata": {},
   "outputs": [
    {
     "data": {
      "text/plain": [
       "<AxesSubplot:xlabel='Price', ylabel='Density'>"
      ]
     },
     "execution_count": 46,
     "metadata": {},
     "output_type": "execute_result"
    },
    {
     "data": {
      "image/png": "[encoded data removed]",
      "text/plain": [
       "<Figure size 432x288 with 1 Axes>"
      ]
     },
     "metadata": {
      "needs_background": "light"
     },
     "output_type": "display_data"
    }
   ],
   "source": [
    "sns.distplot(flight[\"Price\"])"
   ]
  },
  {
   "cell_type": "markdown",
   "id": "037753fc",
   "metadata": {},
   "source": [
    "The columns of the dataset are not normally distributed.The building blocks are outside the normalized curve."
   ]
  },
  {
   "cell_type": "markdown",
   "id": "a0a293b8",
   "metadata": {},
   "source": [
    "# Correlation:"
   ]
  },
  {
   "cell_type": "code",
   "execution_count": 47,
   "id": "dd84c60b",
   "metadata": {},
   "outputs": [
    {
     "data": {
      "text/html": [
       "<div>\n",
       "<style scoped>\n",
       "    .dataframe tbody tr th:only-of-type {\n",
       "        vertical-align: middle;\n",
       "    }\n",
       "\n",
       "    .dataframe tbody tr th {\n",
       "        vertical-align: top;\n",
       "    }\n",
       "\n",
       "    .dataframe thead th {\n",
       "        text-align: right;\n",
       "    }\n",
       "</style>\n",
       "<table border=\"1\" class=\"dataframe\">\n",
       "  <thead>\n",
       "    <tr style=\"text-align: right;\">\n",
       "      <th></th>\n",
       "      <th>Airline</th>\n",
       "      <th>Date_of_Journey</th>\n",
       "      <th>Source</th>\n",
       "      <th>Destination</th>\n",
       "      <th>Route</th>\n",
       "      <th>Dep_Time</th>\n",
       "      <th>Arrival_Time</th>\n",
       "      <th>Duration</th>\n",
       "      <th>Total_Stops</th>\n",
       "      <th>Additional_Info</th>\n",
       "      <th>Price</th>\n",
       "    </tr>\n",
       "  </thead>\n",
       "  <tbody>\n",
       "    <tr>\n",
       "      <th>Airline</th>\n",
       "      <td>1.000000</td>\n",
       "      <td>0.021171</td>\n",
       "      <td>-0.018547</td>\n",
       "      <td>0.022130</td>\n",
       "      <td>0.020447</td>\n",
       "      <td>-0.030363</td>\n",
       "      <td>-0.018385</td>\n",
       "      <td>0.028354</td>\n",
       "      <td>0.037978</td>\n",
       "      <td>-0.058533</td>\n",
       "      <td>-0.035170</td>\n",
       "    </tr>\n",
       "    <tr>\n",
       "      <th>Date_of_Journey</th>\n",
       "      <td>0.021171</td>\n",
       "      <td>1.000000</td>\n",
       "      <td>0.163327</td>\n",
       "      <td>-0.270748</td>\n",
       "      <td>0.270308</td>\n",
       "      <td>-0.011017</td>\n",
       "      <td>-0.011680</td>\n",
       "      <td>-0.002389</td>\n",
       "      <td>-0.043478</td>\n",
       "      <td>0.013295</td>\n",
       "      <td>-0.032936</td>\n",
       "    </tr>\n",
       "    <tr>\n",
       "      <th>Source</th>\n",
       "      <td>-0.018547</td>\n",
       "      <td>0.163327</td>\n",
       "      <td>1.000000</td>\n",
       "      <td>-0.589710</td>\n",
       "      <td>0.410124</td>\n",
       "      <td>0.054033</td>\n",
       "      <td>0.016779</td>\n",
       "      <td>-0.185234</td>\n",
       "      <td>-0.223059</td>\n",
       "      <td>-0.022219</td>\n",
       "      <td>0.014292</td>\n",
       "    </tr>\n",
       "    <tr>\n",
       "      <th>Destination</th>\n",
       "      <td>0.022130</td>\n",
       "      <td>-0.270748</td>\n",
       "      <td>-0.589710</td>\n",
       "      <td>1.000000</td>\n",
       "      <td>-0.475881</td>\n",
       "      <td>-0.058119</td>\n",
       "      <td>-0.029959</td>\n",
       "      <td>0.012843</td>\n",
       "      <td>0.336460</td>\n",
       "      <td>0.027398</td>\n",
       "      <td>-0.063664</td>\n",
       "    </tr>\n",
       "    <tr>\n",
       "      <th>Route</th>\n",
       "      <td>0.020447</td>\n",
       "      <td>0.270308</td>\n",
       "      <td>0.410124</td>\n",
       "      <td>-0.475881</td>\n",
       "      <td>1.000000</td>\n",
       "      <td>-0.090364</td>\n",
       "      <td>0.009594</td>\n",
       "      <td>-0.057312</td>\n",
       "      <td>-0.447204</td>\n",
       "      <td>0.036037</td>\n",
       "      <td>0.149263</td>\n",
       "    </tr>\n",
       "    <tr>\n",
       "      <th>Dep_Time</th>\n",
       "      <td>-0.030363</td>\n",
       "      <td>-0.011017</td>\n",
       "      <td>0.054033</td>\n",
       "      <td>-0.058119</td>\n",
       "      <td>-0.090364</td>\n",
       "      <td>1.000000</td>\n",
       "      <td>-0.029682</td>\n",
       "      <td>0.046499</td>\n",
       "      <td>0.051578</td>\n",
       "      <td>-0.056115</td>\n",
       "      <td>0.002693</td>\n",
       "    </tr>\n",
       "    <tr>\n",
       "      <th>Arrival_Time</th>\n",
       "      <td>-0.018385</td>\n",
       "      <td>-0.011680</td>\n",
       "      <td>0.016779</td>\n",
       "      <td>-0.029959</td>\n",
       "      <td>0.009594</td>\n",
       "      <td>-0.029682</td>\n",
       "      <td>1.000000</td>\n",
       "      <td>0.032591</td>\n",
       "      <td>-0.099455</td>\n",
       "      <td>0.012747</td>\n",
       "      <td>0.025561</td>\n",
       "    </tr>\n",
       "    <tr>\n",
       "      <th>Duration</th>\n",
       "      <td>0.028354</td>\n",
       "      <td>-0.002389</td>\n",
       "      <td>-0.185234</td>\n",
       "      <td>0.012843</td>\n",
       "      <td>-0.057312</td>\n",
       "      <td>0.046499</td>\n",
       "      <td>0.032591</td>\n",
       "      <td>1.000000</td>\n",
       "      <td>0.168697</td>\n",
       "      <td>0.074230</td>\n",
       "      <td>-0.125702</td>\n",
       "    </tr>\n",
       "    <tr>\n",
       "      <th>Total_Stops</th>\n",
       "      <td>0.037978</td>\n",
       "      <td>-0.043478</td>\n",
       "      <td>-0.223059</td>\n",
       "      <td>0.336460</td>\n",
       "      <td>-0.447204</td>\n",
       "      <td>0.051578</td>\n",
       "      <td>-0.099455</td>\n",
       "      <td>0.168697</td>\n",
       "      <td>1.000000</td>\n",
       "      <td>0.162122</td>\n",
       "      <td>-0.511483</td>\n",
       "    </tr>\n",
       "    <tr>\n",
       "      <th>Additional_Info</th>\n",
       "      <td>-0.058533</td>\n",
       "      <td>0.013295</td>\n",
       "      <td>-0.022219</td>\n",
       "      <td>0.027398</td>\n",
       "      <td>0.036037</td>\n",
       "      <td>-0.056115</td>\n",
       "      <td>0.012747</td>\n",
       "      <td>0.074230</td>\n",
       "      <td>0.162122</td>\n",
       "      <td>1.000000</td>\n",
       "      <td>-0.059337</td>\n",
       "    </tr>\n",
       "    <tr>\n",
       "      <th>Price</th>\n",
       "      <td>-0.035170</td>\n",
       "      <td>-0.032936</td>\n",
       "      <td>0.014292</td>\n",
       "      <td>-0.063664</td>\n",
       "      <td>0.149263</td>\n",
       "      <td>0.002693</td>\n",
       "      <td>0.025561</td>\n",
       "      <td>-0.125702</td>\n",
       "      <td>-0.511483</td>\n",
       "      <td>-0.059337</td>\n",
       "      <td>1.000000</td>\n",
       "    </tr>\n",
       "  </tbody>\n",
       "</table>\n",
       "</div>"
      ],
      "text/plain": [
       "                  Airline  Date_of_Journey    Source  Destination     Route  \\\n",
       "Airline          1.000000         0.021171 -0.018547     0.022130  0.020447   \n",
       "Date_of_Journey  0.021171         1.000000  0.163327    -0.270748  0.270308   \n",
       "Source          -0.018547         0.163327  1.000000    -0.589710  0.410124   \n",
       "Destination      0.022130        -0.270748 -0.589710     1.000000 -0.475881   \n",
       "Route            0.020447         0.270308  0.410124    -0.475881  1.000000   \n",
       "Dep_Time        -0.030363        -0.011017  0.054033    -0.058119 -0.090364   \n",
       "Arrival_Time    -0.018385        -0.011680  0.016779    -0.029959  0.009594   \n",
       "Duration         0.028354        -0.002389 -0.185234     0.012843 -0.057312   \n",
       "Total_Stops      0.037978        -0.043478 -0.223059     0.336460 -0.447204   \n",
       "Additional_Info -0.058533         0.013295 -0.022219     0.027398  0.036037   \n",
       "Price           -0.035170        -0.032936  0.014292    -0.063664  0.149263   \n",
       "\n",
       "                 Dep_Time  Arrival_Time  Duration  Total_Stops  \\\n",
       "Airline         -0.030363     -0.018385  0.028354     0.037978   \n",
       "Date_of_Journey -0.011017     -0.011680 -0.002389    -0.043478   \n",
       "Source           0.054033      0.016779 -0.185234    -0.223059   \n",
       "Destination     -0.058119     -0.029959  0.012843     0.336460   \n",
       "Route           -0.090364      0.009594 -0.057312    -0.447204   \n",
       "Dep_Time         1.000000     -0.029682  0.046499     0.051578   \n",
       "Arrival_Time    -0.029682      1.000000  0.032591    -0.099455   \n",
       "Duration         0.046499      0.032591  1.000000     0.168697   \n",
       "Total_Stops      0.051578     -0.099455  0.168697     1.000000   \n",
       "Additional_Info -0.056115      0.012747  0.074230     0.162122   \n",
       "Price            0.002693      0.025561 -0.125702    -0.511483   \n",
       "\n",
       "                 Additional_Info     Price  \n",
       "Airline                -0.058533 -0.035170  \n",
       "Date_of_Journey         0.013295 -0.032936  \n",
       "Source                 -0.022219  0.014292  \n",
       "Destination             0.027398 -0.063664  \n",
       "Route                   0.036037  0.149263  \n",
       "Dep_Time               -0.056115  0.002693  \n",
       "Arrival_Time            0.012747  0.025561  \n",
       "Duration                0.074230 -0.125702  \n",
       "Total_Stops             0.162122 -0.511483  \n",
       "Additional_Info         1.000000 -0.059337  \n",
       "Price                  -0.059337  1.000000  "
      ]
     },
     "execution_count": 47,
     "metadata": {},
     "output_type": "execute_result"
    }
   ],
   "source": [
    "flight.corr()"
   ]
  },
  {
   "cell_type": "markdown",
   "id": "f0ae772d",
   "metadata": {},
   "source": [
    "Correlation using heatmap"
   ]
  },
  {
   "cell_type": "code",
   "execution_count": 49,
   "id": "47811313",
   "metadata": {},
   "outputs": [
    {
     "data": {
      "image/png": "[encoded data removed]",
      "text/plain": [
       "<Figure size 1080x504 with 2 Axes>"
      ]
     },
     "metadata": {
      "needs_background": "light"
     },
     "output_type": "display_data"
    }
   ],
   "source": [
    "plt.figure(figsize=(15,7))\n",
    "sns.heatmap(flight.corr(),annot=True,linewidth=1,linecolor='black',fmt='.2f')\n",
    "plt.title(\"Correlation between different attributes\")\n",
    "plt.show()"
   ]
  },
  {
   "cell_type": "markdown",
   "id": "c0295996",
   "metadata": {},
   "source": [
    "Outcome of Correlation"
   ]
  },
  {
   "cell_type": "markdown",
   "id": "a3e8e380",
   "metadata": {},
   "source": [
    "Column Airline is 4% negatively correlated with the target column price.\n",
    "Column Date_of_Journey is 3% negatively correlated with the target column price.\n",
    "Column Source is 1% correlated with the target column price.\n",
    "Column Destination is 6% negatively correlated with the target column price.\n",
    "Column Route is 15% correlated with the target column price.\n",
    "Column Dep_Time is 0% correlated with the target column price.\n",
    "Column Arrival_Time is 3% correlated with the target column price.\n",
    "Column Duration is 13% negatively correlated with the target column price.\n",
    "Column Total_Stops is 51% negatively correlated with the target column price.\n",
    "Column Additional_Info is 6% negatively correlated with the target column price.\n",
    "\n",
    "Max.Correlation:Total_Stops\n",
    "    \n",
    "Min.Correlation:Source\n",
    "    \n",
    "No Correlation:Dep_Time"
   ]
  },
  {
   "cell_type": "markdown",
   "id": "b89070f7",
   "metadata": {},
   "source": [
    "# Describe of Dataset"
   ]
  },
  {
   "cell_type": "code",
   "execution_count": 50,
   "id": "73a3bc59",
   "metadata": {},
   "outputs": [
    {
     "data": {
      "text/html": [
       "<div>\n",
       "<style scoped>\n",
       "    .dataframe tbody tr th:only-of-type {\n",
       "        vertical-align: middle;\n",
       "    }\n",
       "\n",
       "    .dataframe tbody tr th {\n",
       "        vertical-align: top;\n",
       "    }\n",
       "\n",
       "    .dataframe thead th {\n",
       "        text-align: right;\n",
       "    }\n",
       "</style>\n",
       "<table border=\"1\" class=\"dataframe\">\n",
       "  <thead>\n",
       "    <tr style=\"text-align: right;\">\n",
       "      <th></th>\n",
       "      <th>Airline</th>\n",
       "      <th>Date_of_Journey</th>\n",
       "      <th>Source</th>\n",
       "      <th>Destination</th>\n",
       "      <th>Route</th>\n",
       "      <th>Dep_Time</th>\n",
       "      <th>Arrival_Time</th>\n",
       "      <th>Duration</th>\n",
       "      <th>Total_Stops</th>\n",
       "      <th>Additional_Info</th>\n",
       "      <th>Price</th>\n",
       "    </tr>\n",
       "  </thead>\n",
       "  <tbody>\n",
       "    <tr>\n",
       "      <th>count</th>\n",
       "      <td>13354.000000</td>\n",
       "      <td>13354.000000</td>\n",
       "      <td>13354.000000</td>\n",
       "      <td>13354.000000</td>\n",
       "      <td>13354.000000</td>\n",
       "      <td>13354.000000</td>\n",
       "      <td>13354.000000</td>\n",
       "      <td>13354.000000</td>\n",
       "      <td>13354.000000</td>\n",
       "      <td>13354.000000</td>\n",
       "      <td>13354.000000</td>\n",
       "    </tr>\n",
       "    <tr>\n",
       "      <th>mean</th>\n",
       "      <td>3.977086</td>\n",
       "      <td>23.720608</td>\n",
       "      <td>1.954096</td>\n",
       "      <td>1.435450</td>\n",
       "      <td>77.439494</td>\n",
       "      <td>108.254381</td>\n",
       "      <td>947.215216</td>\n",
       "      <td>195.868129</td>\n",
       "      <td>1.451400</td>\n",
       "      <td>7.407743</td>\n",
       "      <td>9087.064121</td>\n",
       "    </tr>\n",
       "    <tr>\n",
       "      <th>std</th>\n",
       "      <td>2.363997</td>\n",
       "      <td>12.377232</td>\n",
       "      <td>1.178607</td>\n",
       "      <td>1.473368</td>\n",
       "      <td>38.257148</td>\n",
       "      <td>61.034880</td>\n",
       "      <td>352.515953</td>\n",
       "      <td>111.141733</td>\n",
       "      <td>1.804389</td>\n",
       "      <td>1.198393</td>\n",
       "      <td>4124.447805</td>\n",
       "    </tr>\n",
       "    <tr>\n",
       "      <th>min</th>\n",
       "      <td>0.000000</td>\n",
       "      <td>0.000000</td>\n",
       "      <td>0.000000</td>\n",
       "      <td>0.000000</td>\n",
       "      <td>0.000000</td>\n",
       "      <td>0.000000</td>\n",
       "      <td>0.000000</td>\n",
       "      <td>0.000000</td>\n",
       "      <td>0.000000</td>\n",
       "      <td>0.000000</td>\n",
       "      <td>1759.000000</td>\n",
       "    </tr>\n",
       "    <tr>\n",
       "      <th>25%</th>\n",
       "      <td>3.000000</td>\n",
       "      <td>14.000000</td>\n",
       "      <td>2.000000</td>\n",
       "      <td>0.000000</td>\n",
       "      <td>49.000000</td>\n",
       "      <td>55.000000</td>\n",
       "      <td>671.000000</td>\n",
       "      <td>103.000000</td>\n",
       "      <td>0.000000</td>\n",
       "      <td>8.000000</td>\n",
       "      <td>6135.250000</td>\n",
       "    </tr>\n",
       "    <tr>\n",
       "      <th>50%</th>\n",
       "      <td>4.000000</td>\n",
       "      <td>24.000000</td>\n",
       "      <td>2.000000</td>\n",
       "      <td>1.000000</td>\n",
       "      <td>76.000000</td>\n",
       "      <td>97.000000</td>\n",
       "      <td>1020.000000</td>\n",
       "      <td>235.000000</td>\n",
       "      <td>0.000000</td>\n",
       "      <td>8.000000</td>\n",
       "      <td>9087.064121</td>\n",
       "    </tr>\n",
       "    <tr>\n",
       "      <th>75%</th>\n",
       "      <td>4.000000</td>\n",
       "      <td>35.000000</td>\n",
       "      <td>3.000000</td>\n",
       "      <td>2.000000</td>\n",
       "      <td>108.000000</td>\n",
       "      <td>164.000000</td>\n",
       "      <td>1233.000000</td>\n",
       "      <td>284.000000</td>\n",
       "      <td>4.000000</td>\n",
       "      <td>8.000000</td>\n",
       "      <td>11087.000000</td>\n",
       "    </tr>\n",
       "    <tr>\n",
       "      <th>max</th>\n",
       "      <td>11.000000</td>\n",
       "      <td>43.000000</td>\n",
       "      <td>4.000000</td>\n",
       "      <td>5.000000</td>\n",
       "      <td>132.000000</td>\n",
       "      <td>222.000000</td>\n",
       "      <td>1450.000000</td>\n",
       "      <td>373.000000</td>\n",
       "      <td>5.000000</td>\n",
       "      <td>9.000000</td>\n",
       "      <td>79512.000000</td>\n",
       "    </tr>\n",
       "  </tbody>\n",
       "</table>\n",
       "</div>"
      ],
      "text/plain": [
       "            Airline  Date_of_Journey        Source   Destination  \\\n",
       "count  13354.000000     13354.000000  13354.000000  13354.000000   \n",
       "mean       3.977086        23.720608      1.954096      1.435450   \n",
       "std        2.363997        12.377232      1.178607      1.473368   \n",
       "min        0.000000         0.000000      0.000000      0.000000   \n",
       "25%        3.000000        14.000000      2.000000      0.000000   \n",
       "50%        4.000000        24.000000      2.000000      1.000000   \n",
       "75%        4.000000        35.000000      3.000000      2.000000   \n",
       "max       11.000000        43.000000      4.000000      5.000000   \n",
       "\n",
       "              Route      Dep_Time  Arrival_Time      Duration   Total_Stops  \\\n",
       "count  13354.000000  13354.000000  13354.000000  13354.000000  13354.000000   \n",
       "mean      77.439494    108.254381    947.215216    195.868129      1.451400   \n",
       "std       38.257148     61.034880    352.515953    111.141733      1.804389   \n",
       "min        0.000000      0.000000      0.000000      0.000000      0.000000   \n",
       "25%       49.000000     55.000000    671.000000    103.000000      0.000000   \n",
       "50%       76.000000     97.000000   1020.000000    235.000000      0.000000   \n",
       "75%      108.000000    164.000000   1233.000000    284.000000      4.000000   \n",
       "max      132.000000    222.000000   1450.000000    373.000000      5.000000   \n",
       "\n",
       "       Additional_Info         Price  \n",
       "count     13354.000000  13354.000000  \n",
       "mean          7.407743   9087.064121  \n",
       "std           1.198393   4124.447805  \n",
       "min           0.000000   1759.000000  \n",
       "25%           8.000000   6135.250000  \n",
       "50%           8.000000   9087.064121  \n",
       "75%           8.000000  11087.000000  \n",
       "max           9.000000  79512.000000  "
      ]
     },
     "execution_count": 50,
     "metadata": {},
     "output_type": "execute_result"
    }
   ],
   "source": [
    "flight.describe()"
   ]
  },
  {
   "cell_type": "markdown",
   "id": "c9acf513",
   "metadata": {},
   "source": [
    "Describe of dataset using heatmap"
   ]
  },
  {
   "cell_type": "code",
   "execution_count": 51,
   "id": "7d275bdd",
   "metadata": {},
   "outputs": [
    {
     "data": {
      "image/png": "[encoded data removed]",
      "text/plain": [
       "<Figure size 1080x864 with 2 Axes>"
      ]
     },
     "metadata": {
      "needs_background": "light"
     },
     "output_type": "display_data"
    }
   ],
   "source": [
    "plt.figure(figsize=(15,12))\n",
    "sns.heatmap(round(flight.describe()[1:].transpose(),2),linewidth=2,annot=True,fmt='f')\n",
    "plt.xticks(fontsize=18)\n",
    "plt.yticks(fontsize=12)\n",
    "plt.title(\"Variable Summary\")\n",
    "plt.show()"
   ]
  },
  {
   "cell_type": "markdown",
   "id": "ddef7a48",
   "metadata": {},
   "source": [
    "Outcome of Describe of datasets:"
   ]
  },
  {
   "cell_type": "raw",
   "id": "2d1eb0a7",
   "metadata": {},
   "source": [
    "From the above observation we can determine mean, standard deviation, minimum and maximum value of each column\n",
    "\n",
    "1. 13354 rows\n",
    "2. 11 columns\n",
    "\n",
    "Airline:\n",
    "    1.mean=3.977086\n",
    "    2.std=2.363997\n",
    "    3.max_value=11.000000\n",
    "    4.min_value=0.000000\n",
    "    \n",
    "Date_Of_Journey:\n",
    "    1.mean=23.720608\n",
    "    2.std=12.377232\n",
    "    3.max_value=43.000000\n",
    "    4.min_value=0.000000\n",
    "    \n",
    "Source:\n",
    "    1.mean=1.954096\n",
    "    2.std=1.178607\n",
    "    3.max_value=4.000000\n",
    "    4.min_value=0.000000\n",
    "    \n",
    "Destination:\n",
    "    1.mean=1.435450\n",
    "    2.std=1.473368\n",
    "    3.max_value=5.000000\n",
    "    4.min_value=0.000000\n",
    "    \n",
    "Route:\n",
    "    1.mean=77.439494\n",
    "    2.std=38.257148\n",
    "    3.max_value=132.000000\n",
    "    4.min_value=0.000000\n",
    "    \n",
    "Dep_Time:\n",
    "    1.mean=108.254381\n",
    "    2.std=61.034880\n",
    "    3.max_value=222.000000\n",
    "    4.min_value=0.000000\n",
    "    \n",
    "Arrival_Time:\n",
    "    1.mean=947.215216\n",
    "    2.std=352.515953\n",
    "    3.max_value=1450.000000\n",
    "    4.min_value=0.000000\n",
    "    \n",
    "Duration:\n",
    "    1.mean=195.868129\n",
    "    2.std=111.141733\n",
    "    3.max_value=373.000000\n",
    "    4.min_value=0.000000\n",
    "    \n",
    "Total_Stops:\n",
    "    1.mean=1.451400\n",
    "    2.std=1.804389\n",
    "    3.max_value=5.000000\n",
    "    4.min_value=0.000000\n",
    "    \n",
    "Additional_Info:\n",
    "    1.mean=7.407743\n",
    "    2.std=1.198393\n",
    "    3.max_value=9.000000\n",
    "    4.min_value=0.000000\n",
    "    \n",
    "Price:\n",
    "    1.mean=9087.064121\n",
    "    2.std=4124.447805\n",
    "    3.max_value=79512.000000\n",
    "    4.min_value=1759.000000"
   ]
  },
  {
   "cell_type": "code",
   "execution_count": 53,
   "id": "df980cc6",
   "metadata": {},
   "outputs": [
    {
     "name": "stdout",
     "output_type": "stream",
     "text": [
      "<class 'pandas.core.frame.DataFrame'>\n",
      "RangeIndex: 13354 entries, 0 to 13353\n",
      "Data columns (total 12 columns):\n",
      " #   Column           Non-Null Count  Dtype  \n",
      "---  ------           --------------  -----  \n",
      " 0   Airline          13354 non-null  int64  \n",
      " 1   Date_of_Journey  13354 non-null  int64  \n",
      " 2   Source           13354 non-null  int64  \n",
      " 3   Destination      13354 non-null  int64  \n",
      " 4   Route            13354 non-null  int64  \n",
      " 5   Dep_Time         13354 non-null  int64  \n",
      " 6   Arrival_Time     13354 non-null  int64  \n",
      " 7   Duration         13354 non-null  int64  \n",
      " 8   Total_Stops      13354 non-null  int64  \n",
      " 9   Additional_Info  13354 non-null  int64  \n",
      " 10  Price            13354 non-null  float64\n",
      " 11  source           13354 non-null  object \n",
      "dtypes: float64(1), int64(10), object(1)\n",
      "memory usage: 1.2+ MB\n"
     ]
    }
   ],
   "source": [
    "flight.info()"
   ]
  },
  {
   "cell_type": "markdown",
   "id": "4d027ce3",
   "metadata": {},
   "source": [
    "# Outliers Checking"
   ]
  },
  {
   "cell_type": "code",
   "execution_count": 54,
   "id": "48a64a81",
   "metadata": {},
   "outputs": [
    {
     "data": {
      "text/plain": [
       "<AxesSubplot:xlabel='Airline'>"
      ]
     },
     "execution_count": 54,
     "metadata": {},
     "output_type": "execute_result"
    },
    {
     "data": {
      "image/png": "[encoded data removed]",
      "text/plain": [
       "<Figure size 432x288 with 1 Axes>"
      ]
     },
     "metadata": {
      "needs_background": "light"
     },
     "output_type": "display_data"
    }
   ],
   "source": [
    "sns.boxplot(flight['Airline'])"
   ]
  },
  {
   "cell_type": "code",
   "execution_count": 55,
   "id": "7c9d419e",
   "metadata": {},
   "outputs": [
    {
     "data": {
      "text/plain": [
       "<AxesSubplot:xlabel='Date_of_Journey'>"
      ]
     },
     "execution_count": 55,
     "metadata": {},
     "output_type": "execute_result"
    },
    {
     "data": {
      "image/png": "[encoded data removed]",
      "text/plain": [
       "<Figure size 432x288 with 1 Axes>"
      ]
     },
     "metadata": {
      "needs_background": "light"
     },
     "output_type": "display_data"
    }
   ],
   "source": [
    "sns.boxplot(flight['Date_of_Journey'])"
   ]
  },
  {
   "cell_type": "code",
   "execution_count": 56,
   "id": "3dd46668",
   "metadata": {},
   "outputs": [
    {
     "data": {
      "text/plain": [
       "<AxesSubplot:xlabel='Source'>"
      ]
     },
     "execution_count": 56,
     "metadata": {},
     "output_type": "execute_result"
    },
    {
     "data": {
      "image/png": "[encoded data removed]",
      "text/plain": [
       "<Figure size 432x288 with 1 Axes>"
      ]
     },
     "metadata": {
      "needs_background": "light"
     },
     "output_type": "display_data"
    }
   ],
   "source": [
    "sns.boxplot(flight['Source'])"
   ]
  },
  {
   "cell_type": "code",
   "execution_count": 57,
   "id": "c18b4e1b",
   "metadata": {},
   "outputs": [
    {
     "data": {
      "text/plain": [
       "<AxesSubplot:xlabel='Destination'>"
      ]
     },
     "execution_count": 57,
     "metadata": {},
     "output_type": "execute_result"
    },
    {
     "data": {
      "image/png": "[encoded data removed]",
      "text/plain": [
       "<Figure size 432x288 with 1 Axes>"
      ]
     },
     "metadata": {
      "needs_background": "light"
     },
     "output_type": "display_data"
    }
   ],
   "source": [
    "sns.boxplot(flight['Destination'])"
   ]
  },
  {
   "cell_type": "code",
   "execution_count": 58,
   "id": "523395d8",
   "metadata": {},
   "outputs": [
    {
     "data": {
      "text/plain": [
       "<AxesSubplot:xlabel='Route'>"
      ]
     },
     "execution_count": 58,
     "metadata": {},
     "output_type": "execute_result"
    },
    {
     "data": {
      "image/png": "[encoded data removed]",
      "text/plain": [
       "<Figure size 432x288 with 1 Axes>"
      ]
     },
     "metadata": {
      "needs_background": "light"
     },
     "output_type": "display_data"
    }
   ],
   "source": [
    "sns.boxplot(flight['Route'])"
   ]
  },
  {
   "cell_type": "code",
   "execution_count": 59,
   "id": "1c23cec8",
   "metadata": {},
   "outputs": [
    {
     "data": {
      "text/plain": [
       "<AxesSubplot:xlabel='Dep_Time'>"
      ]
     },
     "execution_count": 59,
     "metadata": {},
     "output_type": "execute_result"
    },
    {
     "data": {
      "image/png": "[encoded data removed]",
      "text/plain": [
       "<Figure size 432x288 with 1 Axes>"
      ]
     },
     "metadata": {
      "needs_background": "light"
     },
     "output_type": "display_data"
    }
   ],
   "source": [
    "sns.boxplot(flight['Dep_Time'])"
   ]
  },
  {
   "cell_type": "code",
   "execution_count": 60,
   "id": "55ee601d",
   "metadata": {},
   "outputs": [
    {
     "data": {
      "text/plain": [
       "<AxesSubplot:xlabel='Arrival_Time'>"
      ]
     },
     "execution_count": 60,
     "metadata": {},
     "output_type": "execute_result"
    },
    {
     "data": {
      "image/png": "[encoded data removed]",
      "text/plain": [
       "<Figure size 432x288 with 1 Axes>"
      ]
     },
     "metadata": {
      "needs_background": "light"
     },
     "output_type": "display_data"
    }
   ],
   "source": [
    "sns.boxplot(flight['Arrival_Time'])"
   ]
  },
  {
   "cell_type": "code",
   "execution_count": 61,
   "id": "dc403a8d",
   "metadata": {},
   "outputs": [
    {
     "data": {
      "text/plain": [
       "<AxesSubplot:xlabel='Duration'>"
      ]
     },
     "execution_count": 61,
     "metadata": {},
     "output_type": "execute_result"
    },
    {
     "data": {
      "image/png": "[encoded data removed]",
      "text/plain": [
       "<Figure size 432x288 with 1 Axes>"
      ]
     },
     "metadata": {
      "needs_background": "light"
     },
     "output_type": "display_data"
    }
   ],
   "source": [
    "sns.boxplot(flight['Duration'])"
   ]
  },
  {
   "cell_type": "code",
   "execution_count": 62,
   "id": "7297563c",
   "metadata": {},
   "outputs": [
    {
     "data": {
      "text/plain": [
       "<AxesSubplot:xlabel='Total_Stops'>"
      ]
     },
     "execution_count": 62,
     "metadata": {},
     "output_type": "execute_result"
    },
    {
     "data": {
      "image/png": "[encoded data removed]",
      "text/plain": [
       "<Figure size 432x288 with 1 Axes>"
      ]
     },
     "metadata": {
      "needs_background": "light"
     },
     "output_type": "display_data"
    }
   ],
   "source": [
    "sns.boxplot(flight['Total_Stops'])"
   ]
  },
  {
   "cell_type": "code",
   "execution_count": 63,
   "id": "723eb9c6",
   "metadata": {},
   "outputs": [
    {
     "data": {
      "text/plain": [
       "<AxesSubplot:xlabel='Additional_Info'>"
      ]
     },
     "execution_count": 63,
     "metadata": {},
     "output_type": "execute_result"
    },
    {
     "data": {
      "image/png": "[encoded data removed]",
      "text/plain": [
       "<Figure size 432x288 with 1 Axes>"
      ]
     },
     "metadata": {
      "needs_background": "light"
     },
     "output_type": "display_data"
    }
   ],
   "source": [
    "sns.boxplot(flight['Additional_Info'])"
   ]
  },
  {
   "cell_type": "code",
   "execution_count": 64,
   "id": "95029d33",
   "metadata": {},
   "outputs": [
    {
     "data": {
      "text/plain": [
       "<AxesSubplot:xlabel='Price'>"
      ]
     },
     "execution_count": 64,
     "metadata": {},
     "output_type": "execute_result"
    },
    {
     "data": {
      "image/png": "[encoded data removed]",
      "text/plain": [
       "<Figure size 432x288 with 1 Axes>"
      ]
     },
     "metadata": {
      "needs_background": "light"
     },
     "output_type": "display_data"
    }
   ],
   "source": [
    "sns.boxplot(flight['Price'])"
   ]
  },
  {
   "cell_type": "markdown",
   "id": "61a66106",
   "metadata": {},
   "source": [
    "columns[additional_Info,Price] has more outliers,columns[Airline,Source] has less outliers and columns[Date_of_Journey,Destination,Route,Dep_Time,Arrival_Time,Duration,Total_Stops] has no outliers."
   ]
  },
  {
   "cell_type": "markdown",
   "id": "ea7a4548",
   "metadata": {},
   "source": [
    "# Skewness:"
   ]
  },
  {
   "cell_type": "code",
   "execution_count": 65,
   "id": "9fae46d0",
   "metadata": {},
   "outputs": [
    {
     "data": {
      "text/plain": [
       "Airline            0.720924\n",
       "Date_of_Journey   -0.065428\n",
       "Source            -0.424151\n",
       "Destination        1.247893\n",
       "Route             -0.521328\n",
       "Dep_Time           0.193459\n",
       "Arrival_Time      -0.650988\n",
       "Duration          -0.192160\n",
       "Total_Stops        0.639492\n",
       "Additional_Info   -1.784752\n",
       "Price              2.026457\n",
       "dtype: float64"
      ]
     },
     "execution_count": 65,
     "metadata": {},
     "output_type": "execute_result"
    }
   ],
   "source": [
    "flight.skew()"
   ]
  },
  {
   "cell_type": "markdown",
   "id": "32b2c3a0",
   "metadata": {},
   "source": [
    "Outcome of skewness"
   ]
  },
  {
   "cell_type": "raw",
   "id": "b6f8b5b5",
   "metadata": {},
   "source": [
    "Skewness Threshold is taken as +/-0.5.\n",
    "Columns having skewness:\n",
    "    Airline\n",
    "    Destination\n",
    "    Route\n",
    "    Arrival_Time\n",
    "    Total_Stops\n",
    "    Additional_Info\n",
    "    Price"
   ]
  },
  {
   "cell_type": "markdown",
   "id": "1f0bc1c7",
   "metadata": {},
   "source": [
    "# Data Cleaning:"
   ]
  },
  {
   "cell_type": "code",
   "execution_count": 66,
   "id": "78a6b562",
   "metadata": {},
   "outputs": [],
   "source": [
    "flight=flight.drop([\"Dep_Time\"],axis=1)"
   ]
  },
  {
   "cell_type": "code",
   "execution_count": 67,
   "id": "fbea2b2a",
   "metadata": {},
   "outputs": [
    {
     "data": {
      "text/html": [
       "<div>\n",
       "<style scoped>\n",
       "    .dataframe tbody tr th:only-of-type {\n",
       "        vertical-align: middle;\n",
       "    }\n",
       "\n",
       "    .dataframe tbody tr th {\n",
       "        vertical-align: top;\n",
       "    }\n",
       "\n",
       "    .dataframe thead th {\n",
       "        text-align: right;\n",
       "    }\n",
       "</style>\n",
       "<table border=\"1\" class=\"dataframe\">\n",
       "  <thead>\n",
       "    <tr style=\"text-align: right;\">\n",
       "      <th></th>\n",
       "      <th>Airline</th>\n",
       "      <th>Date_of_Journey</th>\n",
       "      <th>Source</th>\n",
       "      <th>Destination</th>\n",
       "      <th>Route</th>\n",
       "      <th>Arrival_Time</th>\n",
       "      <th>Duration</th>\n",
       "      <th>Total_Stops</th>\n",
       "      <th>Additional_Info</th>\n",
       "      <th>Price</th>\n",
       "      <th>source</th>\n",
       "    </tr>\n",
       "  </thead>\n",
       "  <tbody>\n",
       "    <tr>\n",
       "      <th>0</th>\n",
       "      <td>3</td>\n",
       "      <td>24</td>\n",
       "      <td>0</td>\n",
       "      <td>5</td>\n",
       "      <td>18</td>\n",
       "      <td>264</td>\n",
       "      <td>242</td>\n",
       "      <td>4</td>\n",
       "      <td>8</td>\n",
       "      <td>3897.000000</td>\n",
       "      <td>train</td>\n",
       "    </tr>\n",
       "    <tr>\n",
       "      <th>1</th>\n",
       "      <td>1</td>\n",
       "      <td>6</td>\n",
       "      <td>3</td>\n",
       "      <td>0</td>\n",
       "      <td>87</td>\n",
       "      <td>986</td>\n",
       "      <td>342</td>\n",
       "      <td>1</td>\n",
       "      <td>8</td>\n",
       "      <td>7662.000000</td>\n",
       "      <td>train</td>\n",
       "    </tr>\n",
       "    <tr>\n",
       "      <th>2</th>\n",
       "      <td>4</td>\n",
       "      <td>43</td>\n",
       "      <td>2</td>\n",
       "      <td>1</td>\n",
       "      <td>122</td>\n",
       "      <td>468</td>\n",
       "      <td>106</td>\n",
       "      <td>1</td>\n",
       "      <td>8</td>\n",
       "      <td>13882.000000</td>\n",
       "      <td>train</td>\n",
       "    </tr>\n",
       "    <tr>\n",
       "      <th>3</th>\n",
       "      <td>3</td>\n",
       "      <td>10</td>\n",
       "      <td>3</td>\n",
       "      <td>0</td>\n",
       "      <td>95</td>\n",
       "      <td>1430</td>\n",
       "      <td>317</td>\n",
       "      <td>0</td>\n",
       "      <td>8</td>\n",
       "      <td>6218.000000</td>\n",
       "      <td>train</td>\n",
       "    </tr>\n",
       "    <tr>\n",
       "      <th>4</th>\n",
       "      <td>3</td>\n",
       "      <td>0</td>\n",
       "      <td>0</td>\n",
       "      <td>5</td>\n",
       "      <td>29</td>\n",
       "      <td>1331</td>\n",
       "      <td>309</td>\n",
       "      <td>0</td>\n",
       "      <td>8</td>\n",
       "      <td>13302.000000</td>\n",
       "      <td>train</td>\n",
       "    </tr>\n",
       "    <tr>\n",
       "      <th>...</th>\n",
       "      <td>...</td>\n",
       "      <td>...</td>\n",
       "      <td>...</td>\n",
       "      <td>...</td>\n",
       "      <td>...</td>\n",
       "      <td>...</td>\n",
       "      <td>...</td>\n",
       "      <td>...</td>\n",
       "      <td>...</td>\n",
       "      <td>...</td>\n",
       "      <td>...</td>\n",
       "    </tr>\n",
       "    <tr>\n",
       "      <th>13349</th>\n",
       "      <td>1</td>\n",
       "      <td>39</td>\n",
       "      <td>3</td>\n",
       "      <td>0</td>\n",
       "      <td>76</td>\n",
       "      <td>1283</td>\n",
       "      <td>168</td>\n",
       "      <td>0</td>\n",
       "      <td>8</td>\n",
       "      <td>9087.064121</td>\n",
       "      <td>test</td>\n",
       "    </tr>\n",
       "    <tr>\n",
       "      <th>13350</th>\n",
       "      <td>3</td>\n",
       "      <td>28</td>\n",
       "      <td>3</td>\n",
       "      <td>0</td>\n",
       "      <td>67</td>\n",
       "      <td>1097</td>\n",
       "      <td>239</td>\n",
       "      <td>4</td>\n",
       "      <td>8</td>\n",
       "      <td>9087.064121</td>\n",
       "      <td>test</td>\n",
       "    </tr>\n",
       "    <tr>\n",
       "      <th>13351</th>\n",
       "      <td>4</td>\n",
       "      <td>36</td>\n",
       "      <td>2</td>\n",
       "      <td>1</td>\n",
       "      <td>108</td>\n",
       "      <td>464</td>\n",
       "      <td>332</td>\n",
       "      <td>0</td>\n",
       "      <td>8</td>\n",
       "      <td>9087.064121</td>\n",
       "      <td>test</td>\n",
       "    </tr>\n",
       "    <tr>\n",
       "      <th>13352</th>\n",
       "      <td>1</td>\n",
       "      <td>36</td>\n",
       "      <td>2</td>\n",
       "      <td>1</td>\n",
       "      <td>108</td>\n",
       "      <td>1212</td>\n",
       "      <td>62</td>\n",
       "      <td>0</td>\n",
       "      <td>8</td>\n",
       "      <td>9087.064121</td>\n",
       "      <td>test</td>\n",
       "    </tr>\n",
       "    <tr>\n",
       "      <th>13353</th>\n",
       "      <td>6</td>\n",
       "      <td>15</td>\n",
       "      <td>2</td>\n",
       "      <td>1</td>\n",
       "      <td>108</td>\n",
       "      <td>1212</td>\n",
       "      <td>51</td>\n",
       "      <td>0</td>\n",
       "      <td>8</td>\n",
       "      <td>9087.064121</td>\n",
       "      <td>test</td>\n",
       "    </tr>\n",
       "  </tbody>\n",
       "</table>\n",
       "<p>13354 rows × 11 columns</p>\n",
       "</div>"
      ],
      "text/plain": [
       "       Airline  Date_of_Journey  Source  Destination  Route  Arrival_Time  \\\n",
       "0            3               24       0            5     18           264   \n",
       "1            1                6       3            0     87           986   \n",
       "2            4               43       2            1    122           468   \n",
       "3            3               10       3            0     95          1430   \n",
       "4            3                0       0            5     29          1331   \n",
       "...        ...              ...     ...          ...    ...           ...   \n",
       "13349        1               39       3            0     76          1283   \n",
       "13350        3               28       3            0     67          1097   \n",
       "13351        4               36       2            1    108           464   \n",
       "13352        1               36       2            1    108          1212   \n",
       "13353        6               15       2            1    108          1212   \n",
       "\n",
       "       Duration  Total_Stops  Additional_Info         Price source  \n",
       "0           242            4                8   3897.000000  train  \n",
       "1           342            1                8   7662.000000  train  \n",
       "2           106            1                8  13882.000000  train  \n",
       "3           317            0                8   6218.000000  train  \n",
       "4           309            0                8  13302.000000  train  \n",
       "...         ...          ...              ...           ...    ...  \n",
       "13349       168            0                8   9087.064121   test  \n",
       "13350       239            4                8   9087.064121   test  \n",
       "13351       332            0                8   9087.064121   test  \n",
       "13352        62            0                8   9087.064121   test  \n",
       "13353        51            0                8   9087.064121   test  \n",
       "\n",
       "[13354 rows x 11 columns]"
      ]
     },
     "execution_count": 67,
     "metadata": {},
     "output_type": "execute_result"
    }
   ],
   "source": [
    "flight"
   ]
  },
  {
   "cell_type": "code",
   "execution_count": 68,
   "id": "238b11c0",
   "metadata": {},
   "outputs": [],
   "source": [
    "train=flight.loc[flight['source']=='train']\n",
    "test=flight.loc[flight['source']=='test']"
   ]
  },
  {
   "cell_type": "code",
   "execution_count": 69,
   "id": "62667cd6",
   "metadata": {},
   "outputs": [],
   "source": [
    "train=train.drop([\"source\"],axis=1)"
   ]
  },
  {
   "cell_type": "code",
   "execution_count": 70,
   "id": "8a63d2c5",
   "metadata": {},
   "outputs": [
    {
     "data": {
      "text/html": [
       "<div>\n",
       "<style scoped>\n",
       "    .dataframe tbody tr th:only-of-type {\n",
       "        vertical-align: middle;\n",
       "    }\n",
       "\n",
       "    .dataframe tbody tr th {\n",
       "        vertical-align: top;\n",
       "    }\n",
       "\n",
       "    .dataframe thead th {\n",
       "        text-align: right;\n",
       "    }\n",
       "</style>\n",
       "<table border=\"1\" class=\"dataframe\">\n",
       "  <thead>\n",
       "    <tr style=\"text-align: right;\">\n",
       "      <th></th>\n",
       "      <th>Airline</th>\n",
       "      <th>Date_of_Journey</th>\n",
       "      <th>Source</th>\n",
       "      <th>Destination</th>\n",
       "      <th>Route</th>\n",
       "      <th>Arrival_Time</th>\n",
       "      <th>Duration</th>\n",
       "      <th>Total_Stops</th>\n",
       "      <th>Additional_Info</th>\n",
       "      <th>Price</th>\n",
       "    </tr>\n",
       "  </thead>\n",
       "  <tbody>\n",
       "    <tr>\n",
       "      <th>0</th>\n",
       "      <td>3</td>\n",
       "      <td>24</td>\n",
       "      <td>0</td>\n",
       "      <td>5</td>\n",
       "      <td>18</td>\n",
       "      <td>264</td>\n",
       "      <td>242</td>\n",
       "      <td>4</td>\n",
       "      <td>8</td>\n",
       "      <td>3897.0</td>\n",
       "    </tr>\n",
       "    <tr>\n",
       "      <th>1</th>\n",
       "      <td>1</td>\n",
       "      <td>6</td>\n",
       "      <td>3</td>\n",
       "      <td>0</td>\n",
       "      <td>87</td>\n",
       "      <td>986</td>\n",
       "      <td>342</td>\n",
       "      <td>1</td>\n",
       "      <td>8</td>\n",
       "      <td>7662.0</td>\n",
       "    </tr>\n",
       "    <tr>\n",
       "      <th>2</th>\n",
       "      <td>4</td>\n",
       "      <td>43</td>\n",
       "      <td>2</td>\n",
       "      <td>1</td>\n",
       "      <td>122</td>\n",
       "      <td>468</td>\n",
       "      <td>106</td>\n",
       "      <td>1</td>\n",
       "      <td>8</td>\n",
       "      <td>13882.0</td>\n",
       "    </tr>\n",
       "    <tr>\n",
       "      <th>3</th>\n",
       "      <td>3</td>\n",
       "      <td>10</td>\n",
       "      <td>3</td>\n",
       "      <td>0</td>\n",
       "      <td>95</td>\n",
       "      <td>1430</td>\n",
       "      <td>317</td>\n",
       "      <td>0</td>\n",
       "      <td>8</td>\n",
       "      <td>6218.0</td>\n",
       "    </tr>\n",
       "    <tr>\n",
       "      <th>4</th>\n",
       "      <td>3</td>\n",
       "      <td>0</td>\n",
       "      <td>0</td>\n",
       "      <td>5</td>\n",
       "      <td>29</td>\n",
       "      <td>1331</td>\n",
       "      <td>309</td>\n",
       "      <td>0</td>\n",
       "      <td>8</td>\n",
       "      <td>13302.0</td>\n",
       "    </tr>\n",
       "    <tr>\n",
       "      <th>...</th>\n",
       "      <td>...</td>\n",
       "      <td>...</td>\n",
       "      <td>...</td>\n",
       "      <td>...</td>\n",
       "      <td>...</td>\n",
       "      <td>...</td>\n",
       "      <td>...</td>\n",
       "      <td>...</td>\n",
       "      <td>...</td>\n",
       "      <td>...</td>\n",
       "    </tr>\n",
       "    <tr>\n",
       "      <th>10678</th>\n",
       "      <td>0</td>\n",
       "      <td>41</td>\n",
       "      <td>3</td>\n",
       "      <td>0</td>\n",
       "      <td>67</td>\n",
       "      <td>1353</td>\n",
       "      <td>238</td>\n",
       "      <td>4</td>\n",
       "      <td>8</td>\n",
       "      <td>4107.0</td>\n",
       "    </tr>\n",
       "    <tr>\n",
       "      <th>10679</th>\n",
       "      <td>1</td>\n",
       "      <td>29</td>\n",
       "      <td>3</td>\n",
       "      <td>0</td>\n",
       "      <td>67</td>\n",
       "      <td>1408</td>\n",
       "      <td>239</td>\n",
       "      <td>4</td>\n",
       "      <td>8</td>\n",
       "      <td>4145.0</td>\n",
       "    </tr>\n",
       "    <tr>\n",
       "      <th>10680</th>\n",
       "      <td>4</td>\n",
       "      <td>29</td>\n",
       "      <td>0</td>\n",
       "      <td>2</td>\n",
       "      <td>18</td>\n",
       "      <td>901</td>\n",
       "      <td>284</td>\n",
       "      <td>4</td>\n",
       "      <td>8</td>\n",
       "      <td>7229.0</td>\n",
       "    </tr>\n",
       "    <tr>\n",
       "      <th>10681</th>\n",
       "      <td>10</td>\n",
       "      <td>0</td>\n",
       "      <td>0</td>\n",
       "      <td>5</td>\n",
       "      <td>18</td>\n",
       "      <td>1019</td>\n",
       "      <td>240</td>\n",
       "      <td>4</td>\n",
       "      <td>8</td>\n",
       "      <td>12648.0</td>\n",
       "    </tr>\n",
       "    <tr>\n",
       "      <th>10682</th>\n",
       "      <td>1</td>\n",
       "      <td>42</td>\n",
       "      <td>2</td>\n",
       "      <td>1</td>\n",
       "      <td>112</td>\n",
       "      <td>1212</td>\n",
       "      <td>353</td>\n",
       "      <td>1</td>\n",
       "      <td>8</td>\n",
       "      <td>11753.0</td>\n",
       "    </tr>\n",
       "  </tbody>\n",
       "</table>\n",
       "<p>10683 rows × 10 columns</p>\n",
       "</div>"
      ],
      "text/plain": [
       "       Airline  Date_of_Journey  Source  Destination  Route  Arrival_Time  \\\n",
       "0            3               24       0            5     18           264   \n",
       "1            1                6       3            0     87           986   \n",
       "2            4               43       2            1    122           468   \n",
       "3            3               10       3            0     95          1430   \n",
       "4            3                0       0            5     29          1331   \n",
       "...        ...              ...     ...          ...    ...           ...   \n",
       "10678        0               41       3            0     67          1353   \n",
       "10679        1               29       3            0     67          1408   \n",
       "10680        4               29       0            2     18           901   \n",
       "10681       10                0       0            5     18          1019   \n",
       "10682        1               42       2            1    112          1212   \n",
       "\n",
       "       Duration  Total_Stops  Additional_Info    Price  \n",
       "0           242            4                8   3897.0  \n",
       "1           342            1                8   7662.0  \n",
       "2           106            1                8  13882.0  \n",
       "3           317            0                8   6218.0  \n",
       "4           309            0                8  13302.0  \n",
       "...         ...          ...              ...      ...  \n",
       "10678       238            4                8   4107.0  \n",
       "10679       239            4                8   4145.0  \n",
       "10680       284            4                8   7229.0  \n",
       "10681       240            4                8  12648.0  \n",
       "10682       353            1                8  11753.0  \n",
       "\n",
       "[10683 rows x 10 columns]"
      ]
     },
     "execution_count": 70,
     "metadata": {},
     "output_type": "execute_result"
    }
   ],
   "source": [
    "train"
   ]
  },
  {
   "cell_type": "code",
   "execution_count": 72,
   "id": "9c849529",
   "metadata": {},
   "outputs": [],
   "source": [
    "test=test.drop([\"source\",\"Price\"],axis=1)"
   ]
  },
  {
   "cell_type": "code",
   "execution_count": 73,
   "id": "75f3f712",
   "metadata": {},
   "outputs": [
    {
     "data": {
      "text/html": [
       "<div>\n",
       "<style scoped>\n",
       "    .dataframe tbody tr th:only-of-type {\n",
       "        vertical-align: middle;\n",
       "    }\n",
       "\n",
       "    .dataframe tbody tr th {\n",
       "        vertical-align: top;\n",
       "    }\n",
       "\n",
       "    .dataframe thead th {\n",
       "        text-align: right;\n",
       "    }\n",
       "</style>\n",
       "<table border=\"1\" class=\"dataframe\">\n",
       "  <thead>\n",
       "    <tr style=\"text-align: right;\">\n",
       "      <th></th>\n",
       "      <th>Airline</th>\n",
       "      <th>Date_of_Journey</th>\n",
       "      <th>Source</th>\n",
       "      <th>Destination</th>\n",
       "      <th>Route</th>\n",
       "      <th>Arrival_Time</th>\n",
       "      <th>Duration</th>\n",
       "      <th>Total_Stops</th>\n",
       "      <th>Additional_Info</th>\n",
       "    </tr>\n",
       "  </thead>\n",
       "  <tbody>\n",
       "    <tr>\n",
       "      <th>10683</th>\n",
       "      <td>4</td>\n",
       "      <td>39</td>\n",
       "      <td>2</td>\n",
       "      <td>1</td>\n",
       "      <td>108</td>\n",
       "      <td>463</td>\n",
       "      <td>10</td>\n",
       "      <td>0</td>\n",
       "      <td>8</td>\n",
       "    </tr>\n",
       "    <tr>\n",
       "      <th>10684</th>\n",
       "      <td>3</td>\n",
       "      <td>10</td>\n",
       "      <td>3</td>\n",
       "      <td>0</td>\n",
       "      <td>94</td>\n",
       "      <td>809</td>\n",
       "      <td>301</td>\n",
       "      <td>0</td>\n",
       "      <td>8</td>\n",
       "    </tr>\n",
       "    <tr>\n",
       "      <th>10685</th>\n",
       "      <td>4</td>\n",
       "      <td>22</td>\n",
       "      <td>2</td>\n",
       "      <td>1</td>\n",
       "      <td>108</td>\n",
       "      <td>1193</td>\n",
       "      <td>166</td>\n",
       "      <td>0</td>\n",
       "      <td>5</td>\n",
       "    </tr>\n",
       "    <tr>\n",
       "      <th>10686</th>\n",
       "      <td>6</td>\n",
       "      <td>22</td>\n",
       "      <td>2</td>\n",
       "      <td>1</td>\n",
       "      <td>108</td>\n",
       "      <td>1308</td>\n",
       "      <td>36</td>\n",
       "      <td>0</td>\n",
       "      <td>8</td>\n",
       "    </tr>\n",
       "    <tr>\n",
       "      <th>10687</th>\n",
       "      <td>0</td>\n",
       "      <td>27</td>\n",
       "      <td>0</td>\n",
       "      <td>2</td>\n",
       "      <td>18</td>\n",
       "      <td>424</td>\n",
       "      <td>242</td>\n",
       "      <td>4</td>\n",
       "      <td>8</td>\n",
       "    </tr>\n",
       "    <tr>\n",
       "      <th>...</th>\n",
       "      <td>...</td>\n",
       "      <td>...</td>\n",
       "      <td>...</td>\n",
       "      <td>...</td>\n",
       "      <td>...</td>\n",
       "      <td>...</td>\n",
       "      <td>...</td>\n",
       "      <td>...</td>\n",
       "      <td>...</td>\n",
       "    </tr>\n",
       "    <tr>\n",
       "      <th>13349</th>\n",
       "      <td>1</td>\n",
       "      <td>39</td>\n",
       "      <td>3</td>\n",
       "      <td>0</td>\n",
       "      <td>76</td>\n",
       "      <td>1283</td>\n",
       "      <td>168</td>\n",
       "      <td>0</td>\n",
       "      <td>8</td>\n",
       "    </tr>\n",
       "    <tr>\n",
       "      <th>13350</th>\n",
       "      <td>3</td>\n",
       "      <td>28</td>\n",
       "      <td>3</td>\n",
       "      <td>0</td>\n",
       "      <td>67</td>\n",
       "      <td>1097</td>\n",
       "      <td>239</td>\n",
       "      <td>4</td>\n",
       "      <td>8</td>\n",
       "    </tr>\n",
       "    <tr>\n",
       "      <th>13351</th>\n",
       "      <td>4</td>\n",
       "      <td>36</td>\n",
       "      <td>2</td>\n",
       "      <td>1</td>\n",
       "      <td>108</td>\n",
       "      <td>464</td>\n",
       "      <td>332</td>\n",
       "      <td>0</td>\n",
       "      <td>8</td>\n",
       "    </tr>\n",
       "    <tr>\n",
       "      <th>13352</th>\n",
       "      <td>1</td>\n",
       "      <td>36</td>\n",
       "      <td>2</td>\n",
       "      <td>1</td>\n",
       "      <td>108</td>\n",
       "      <td>1212</td>\n",
       "      <td>62</td>\n",
       "      <td>0</td>\n",
       "      <td>8</td>\n",
       "    </tr>\n",
       "    <tr>\n",
       "      <th>13353</th>\n",
       "      <td>6</td>\n",
       "      <td>15</td>\n",
       "      <td>2</td>\n",
       "      <td>1</td>\n",
       "      <td>108</td>\n",
       "      <td>1212</td>\n",
       "      <td>51</td>\n",
       "      <td>0</td>\n",
       "      <td>8</td>\n",
       "    </tr>\n",
       "  </tbody>\n",
       "</table>\n",
       "<p>2671 rows × 9 columns</p>\n",
       "</div>"
      ],
      "text/plain": [
       "       Airline  Date_of_Journey  Source  Destination  Route  Arrival_Time  \\\n",
       "10683        4               39       2            1    108           463   \n",
       "10684        3               10       3            0     94           809   \n",
       "10685        4               22       2            1    108          1193   \n",
       "10686        6               22       2            1    108          1308   \n",
       "10687        0               27       0            2     18           424   \n",
       "...        ...              ...     ...          ...    ...           ...   \n",
       "13349        1               39       3            0     76          1283   \n",
       "13350        3               28       3            0     67          1097   \n",
       "13351        4               36       2            1    108           464   \n",
       "13352        1               36       2            1    108          1212   \n",
       "13353        6               15       2            1    108          1212   \n",
       "\n",
       "       Duration  Total_Stops  Additional_Info  \n",
       "10683        10            0                8  \n",
       "10684       301            0                8  \n",
       "10685       166            0                5  \n",
       "10686        36            0                8  \n",
       "10687       242            4                8  \n",
       "...         ...          ...              ...  \n",
       "13349       168            0                8  \n",
       "13350       239            4                8  \n",
       "13351       332            0                8  \n",
       "13352        62            0                8  \n",
       "13353        51            0                8  \n",
       "\n",
       "[2671 rows x 9 columns]"
      ]
     },
     "execution_count": 73,
     "metadata": {},
     "output_type": "execute_result"
    }
   ],
   "source": [
    "test"
   ]
  },
  {
   "cell_type": "code",
   "execution_count": 74,
   "id": "fa6392d8",
   "metadata": {},
   "outputs": [
    {
     "data": {
      "text/html": [
       "<div>\n",
       "<style scoped>\n",
       "    .dataframe tbody tr th:only-of-type {\n",
       "        vertical-align: middle;\n",
       "    }\n",
       "\n",
       "    .dataframe tbody tr th {\n",
       "        vertical-align: top;\n",
       "    }\n",
       "\n",
       "    .dataframe thead th {\n",
       "        text-align: right;\n",
       "    }\n",
       "</style>\n",
       "<table border=\"1\" class=\"dataframe\">\n",
       "  <thead>\n",
       "    <tr style=\"text-align: right;\">\n",
       "      <th></th>\n",
       "      <th>Airline</th>\n",
       "      <th>Date_of_Journey</th>\n",
       "      <th>Source</th>\n",
       "      <th>Destination</th>\n",
       "      <th>Route</th>\n",
       "      <th>Arrival_Time</th>\n",
       "      <th>Duration</th>\n",
       "      <th>Total_Stops</th>\n",
       "      <th>Additional_Info</th>\n",
       "      <th>Price</th>\n",
       "    </tr>\n",
       "  </thead>\n",
       "  <tbody>\n",
       "    <tr>\n",
       "      <th>0</th>\n",
       "      <td>3</td>\n",
       "      <td>24</td>\n",
       "      <td>0</td>\n",
       "      <td>5</td>\n",
       "      <td>18</td>\n",
       "      <td>264</td>\n",
       "      <td>242</td>\n",
       "      <td>4</td>\n",
       "      <td>8</td>\n",
       "      <td>3897.000000</td>\n",
       "    </tr>\n",
       "    <tr>\n",
       "      <th>1</th>\n",
       "      <td>1</td>\n",
       "      <td>6</td>\n",
       "      <td>3</td>\n",
       "      <td>0</td>\n",
       "      <td>87</td>\n",
       "      <td>986</td>\n",
       "      <td>342</td>\n",
       "      <td>1</td>\n",
       "      <td>8</td>\n",
       "      <td>7662.000000</td>\n",
       "    </tr>\n",
       "    <tr>\n",
       "      <th>2</th>\n",
       "      <td>4</td>\n",
       "      <td>43</td>\n",
       "      <td>2</td>\n",
       "      <td>1</td>\n",
       "      <td>122</td>\n",
       "      <td>468</td>\n",
       "      <td>106</td>\n",
       "      <td>1</td>\n",
       "      <td>8</td>\n",
       "      <td>13882.000000</td>\n",
       "    </tr>\n",
       "    <tr>\n",
       "      <th>3</th>\n",
       "      <td>3</td>\n",
       "      <td>10</td>\n",
       "      <td>3</td>\n",
       "      <td>0</td>\n",
       "      <td>95</td>\n",
       "      <td>1430</td>\n",
       "      <td>317</td>\n",
       "      <td>0</td>\n",
       "      <td>8</td>\n",
       "      <td>6218.000000</td>\n",
       "    </tr>\n",
       "    <tr>\n",
       "      <th>4</th>\n",
       "      <td>3</td>\n",
       "      <td>0</td>\n",
       "      <td>0</td>\n",
       "      <td>5</td>\n",
       "      <td>29</td>\n",
       "      <td>1331</td>\n",
       "      <td>309</td>\n",
       "      <td>0</td>\n",
       "      <td>8</td>\n",
       "      <td>13302.000000</td>\n",
       "    </tr>\n",
       "    <tr>\n",
       "      <th>...</th>\n",
       "      <td>...</td>\n",
       "      <td>...</td>\n",
       "      <td>...</td>\n",
       "      <td>...</td>\n",
       "      <td>...</td>\n",
       "      <td>...</td>\n",
       "      <td>...</td>\n",
       "      <td>...</td>\n",
       "      <td>...</td>\n",
       "      <td>...</td>\n",
       "    </tr>\n",
       "    <tr>\n",
       "      <th>13349</th>\n",
       "      <td>1</td>\n",
       "      <td>39</td>\n",
       "      <td>3</td>\n",
       "      <td>0</td>\n",
       "      <td>76</td>\n",
       "      <td>1283</td>\n",
       "      <td>168</td>\n",
       "      <td>0</td>\n",
       "      <td>8</td>\n",
       "      <td>9087.064121</td>\n",
       "    </tr>\n",
       "    <tr>\n",
       "      <th>13350</th>\n",
       "      <td>3</td>\n",
       "      <td>28</td>\n",
       "      <td>3</td>\n",
       "      <td>0</td>\n",
       "      <td>67</td>\n",
       "      <td>1097</td>\n",
       "      <td>239</td>\n",
       "      <td>4</td>\n",
       "      <td>8</td>\n",
       "      <td>9087.064121</td>\n",
       "    </tr>\n",
       "    <tr>\n",
       "      <th>13351</th>\n",
       "      <td>4</td>\n",
       "      <td>36</td>\n",
       "      <td>2</td>\n",
       "      <td>1</td>\n",
       "      <td>108</td>\n",
       "      <td>464</td>\n",
       "      <td>332</td>\n",
       "      <td>0</td>\n",
       "      <td>8</td>\n",
       "      <td>9087.064121</td>\n",
       "    </tr>\n",
       "    <tr>\n",
       "      <th>13352</th>\n",
       "      <td>1</td>\n",
       "      <td>36</td>\n",
       "      <td>2</td>\n",
       "      <td>1</td>\n",
       "      <td>108</td>\n",
       "      <td>1212</td>\n",
       "      <td>62</td>\n",
       "      <td>0</td>\n",
       "      <td>8</td>\n",
       "      <td>9087.064121</td>\n",
       "    </tr>\n",
       "    <tr>\n",
       "      <th>13353</th>\n",
       "      <td>6</td>\n",
       "      <td>15</td>\n",
       "      <td>2</td>\n",
       "      <td>1</td>\n",
       "      <td>108</td>\n",
       "      <td>1212</td>\n",
       "      <td>51</td>\n",
       "      <td>0</td>\n",
       "      <td>8</td>\n",
       "      <td>9087.064121</td>\n",
       "    </tr>\n",
       "  </tbody>\n",
       "</table>\n",
       "<p>13354 rows × 10 columns</p>\n",
       "</div>"
      ],
      "text/plain": [
       "       Airline  Date_of_Journey  Source  Destination  Route  Arrival_Time  \\\n",
       "0            3               24       0            5     18           264   \n",
       "1            1                6       3            0     87           986   \n",
       "2            4               43       2            1    122           468   \n",
       "3            3               10       3            0     95          1430   \n",
       "4            3                0       0            5     29          1331   \n",
       "...        ...              ...     ...          ...    ...           ...   \n",
       "13349        1               39       3            0     76          1283   \n",
       "13350        3               28       3            0     67          1097   \n",
       "13351        4               36       2            1    108           464   \n",
       "13352        1               36       2            1    108          1212   \n",
       "13353        6               15       2            1    108          1212   \n",
       "\n",
       "       Duration  Total_Stops  Additional_Info         Price  \n",
       "0           242            4                8   3897.000000  \n",
       "1           342            1                8   7662.000000  \n",
       "2           106            1                8  13882.000000  \n",
       "3           317            0                8   6218.000000  \n",
       "4           309            0                8  13302.000000  \n",
       "...         ...          ...              ...           ...  \n",
       "13349       168            0                8   9087.064121  \n",
       "13350       239            4                8   9087.064121  \n",
       "13351       332            0                8   9087.064121  \n",
       "13352        62            0                8   9087.064121  \n",
       "13353        51            0                8   9087.064121  \n",
       "\n",
       "[13354 rows x 10 columns]"
      ]
     },
     "execution_count": 74,
     "metadata": {},
     "output_type": "execute_result"
    }
   ],
   "source": [
    "flight=flight.drop([\"source\"],axis=1)\n",
    "flight"
   ]
  },
  {
   "cell_type": "markdown",
   "id": "f33a4a7f",
   "metadata": {},
   "source": [
    "# Removing Outliers:"
   ]
  },
  {
   "cell_type": "markdown",
   "id": "9e5e9e1a",
   "metadata": {},
   "source": [
    "# z-Score Technique"
   ]
  },
  {
   "cell_type": "code",
   "execution_count": 75,
   "id": "3429696b",
   "metadata": {},
   "outputs": [
    {
     "data": {
      "text/plain": [
       "(13354, 10)"
      ]
     },
     "execution_count": 75,
     "metadata": {},
     "output_type": "execute_result"
    }
   ],
   "source": [
    "from scipy.stats import zscore\n",
    "import numpy as np\n",
    "z=np.abs(zscore(flight))\n",
    "z.shape"
   ]
  },
  {
   "cell_type": "code",
   "execution_count": 76,
   "id": "379cb95e",
   "metadata": {},
   "outputs": [
    {
     "name": "stdout",
     "output_type": "stream",
     "text": [
      "(array([    7,   123,   396,   486,   510,   515,   597,   628,   657,\n",
      "         785,   785,   826,   936,   946,   959,   975,  1043,  1196,\n",
      "        1246,  1341,  1424,  1466,  1478,  1629,  1654,  1785,  1824,\n",
      "        1828,  1918,  2055,  2079,  2099,  2108,  2127,  2405,  2405,\n",
      "        2481,  2495,  2495,  2556,  2556,  2591,  2618,  2633,  2635,\n",
      "        2691,  2693,  2924,  2924,  3032,  3032,  3111,  3111,  3257,\n",
      "        3317,  3400,  3535,  3700,  3700,  3788,  4012,  4521,  4521,\n",
      "        4676,  4765,  4829,  5013,  5013,  5136,  5162,  5293,  5372,\n",
      "        5372,  5439,  5523,  5628,  5662,  5701,  5710,  5719,  5738,\n",
      "        5745,  5850,  5856,  5980,  5986,  6024,  6314,  6336,  6407,\n",
      "        6526,  6576,  6576,  6588,  6605,  6901,  6991,  7120,  7351,\n",
      "        7356,  7377,  7537,  7554,  7617,  7713,  7724,  7724,  7756,\n",
      "        7902,  8020,  8080,  8451,  8470,  8536,  8598,  8856,  8912,\n",
      "        8940,  8957,  8957,  8987,  8990,  9019,  9019,  9044,  9055,\n",
      "        9193,  9239,  9266,  9303,  9372,  9556,  9632,  9657,  9689,\n",
      "        9715,  9930,  9974, 10052, 10113, 10160, 10182, 10189, 10351,\n",
      "       10353, 10364, 10364, 10383, 10439, 10511, 10511, 11637, 12485],\n",
      "      dtype=int64), array([9, 9, 9, 9, 9, 9, 9, 9, 9, 8, 9, 9, 9, 9, 9, 9, 8, 9, 9, 9, 9, 9,\n",
      "       9, 9, 9, 9, 9, 9, 9, 9, 8, 9, 9, 9, 8, 9, 8, 8, 9, 8, 9, 9, 9, 9,\n",
      "       9, 9, 9, 8, 9, 8, 9, 8, 9, 9, 9, 9, 9, 8, 9, 8, 9, 8, 9, 9, 9, 9,\n",
      "       8, 9, 9, 9, 9, 8, 9, 9, 9, 8, 9, 9, 9, 9, 9, 9, 9, 9, 9, 9, 8, 9,\n",
      "       8, 9, 9, 8, 9, 9, 9, 9, 9, 9, 9, 9, 9, 9, 9, 9, 9, 8, 9, 9, 9, 9,\n",
      "       9, 9, 9, 9, 9, 9, 9, 9, 8, 9, 9, 9, 8, 9, 9, 9, 9, 9, 9, 9, 9, 9,\n",
      "       9, 8, 9, 9, 9, 9, 9, 9, 9, 9, 9, 9, 9, 8, 9, 9, 9, 8, 9, 8, 8],\n",
      "      dtype=int64))\n"
     ]
    }
   ],
   "source": [
    "threshold=3\n",
    "print(np.where(z>3))"
   ]
  },
  {
   "cell_type": "code",
   "execution_count": 77,
   "id": "5903faed",
   "metadata": {},
   "outputs": [
    {
     "name": "stdout",
     "output_type": "stream",
     "text": [
      "(13354, 10)\n",
      "(13218, 10)\n"
     ]
    }
   ],
   "source": [
    "flight_new=flight[(z<3).all(axis=1)]\n",
    "print(flight.shape)\n",
    "print(flight_new.shape)"
   ]
  },
  {
   "cell_type": "markdown",
   "id": "6e533861",
   "metadata": {},
   "source": [
    "Percentage Data Loss"
   ]
  },
  {
   "cell_type": "code",
   "execution_count": 78,
   "id": "d2a9c2de",
   "metadata": {},
   "outputs": [
    {
     "name": "stdout",
     "output_type": "stream",
     "text": [
      "1.0184214467575259\n"
     ]
    }
   ],
   "source": [
    "percentage_loss=(13354-13218)/13354*100\n",
    "print(percentage_loss)"
   ]
  },
  {
   "cell_type": "markdown",
   "id": "afac9918",
   "metadata": {},
   "source": [
    "# IQR Technique:"
   ]
  },
  {
   "cell_type": "code",
   "execution_count": 79,
   "id": "0fca48e8",
   "metadata": {},
   "outputs": [
    {
     "name": "stdout",
     "output_type": "stream",
     "text": [
      "Airline               1.00\n",
      "Date_of_Journey      21.00\n",
      "Source                1.00\n",
      "Destination           2.00\n",
      "Route                59.00\n",
      "Arrival_Time        562.00\n",
      "Duration            181.00\n",
      "Total_Stops           4.00\n",
      "Additional_Info       0.00\n",
      "Price              4951.75\n",
      "dtype: float64\n"
     ]
    }
   ],
   "source": [
    "Q1 = flight.quantile(0.25)\n",
    "Q3 = flight.quantile(0.75)\n",
    "IQR = Q3 - Q1\n",
    "print(IQR)"
   ]
  },
  {
   "cell_type": "code",
   "execution_count": 80,
   "id": "dcb8edd1",
   "metadata": {},
   "outputs": [
    {
     "name": "stdout",
     "output_type": "stream",
     "text": [
      "(13354, 10)\n",
      "(3866, 10)\n"
     ]
    }
   ],
   "source": [
    "flight_new1= flight[~((flight < (Q1 - 1.5 * IQR)) |(flight > (Q3 + 1.5 * IQR))).any(axis=1)]\n",
    "print(flight.shape)\n",
    "print(flight_new1.shape)"
   ]
  },
  {
   "cell_type": "markdown",
   "id": "80d60797",
   "metadata": {},
   "source": [
    "Percentage Data Loss"
   ]
  },
  {
   "cell_type": "code",
   "execution_count": 81,
   "id": "c8f2b783",
   "metadata": {},
   "outputs": [
    {
     "name": "stdout",
     "output_type": "stream",
     "text": [
      "71.04987269731916\n"
     ]
    }
   ],
   "source": [
    "percentage_loss=((13354-3866)/13354)*100\n",
    "print(percentage_loss)"
   ]
  },
  {
   "cell_type": "markdown",
   "id": "9fe75c04",
   "metadata": {},
   "source": [
    "The percentage loss in the z-score is less, so we prefer z-score over IQR."
   ]
  },
  {
   "cell_type": "markdown",
   "id": "74729f0f",
   "metadata": {},
   "source": [
    "# Dividing Data in features and vector:"
   ]
  },
  {
   "cell_type": "code",
   "execution_count": 82,
   "id": "72a32f68",
   "metadata": {},
   "outputs": [],
   "source": [
    "x_train=train\n",
    "y_train=train['Price']\n",
    "x_test=test"
   ]
  },
  {
   "cell_type": "markdown",
   "id": "7aa2d17a",
   "metadata": {},
   "source": [
    "# Transform data to remove skewness"
   ]
  },
  {
   "cell_type": "code",
   "execution_count": 83,
   "id": "73b3e4de",
   "metadata": {},
   "outputs": [],
   "source": [
    "from sklearn.preprocessing import power_transform\n",
    "x_train=power_transform(x_train,method='yeo-johnson')"
   ]
  },
  {
   "cell_type": "code",
   "execution_count": 84,
   "id": "ae69a5d5",
   "metadata": {},
   "outputs": [
    {
     "data": {
      "text/plain": [
       "array([[-0.29549976,  0.07283158, -1.59971174, ...,  1.29335859,\n",
       "         0.52470319, -1.36790521],\n",
       "       [-1.42029981, -1.48152376,  0.90206079, ...,  0.35515174,\n",
       "         0.52470319, -0.1389652 ],\n",
       "       [ 0.14774467,  1.48488887, -0.01210752, ...,  0.35515174,\n",
       "         0.52470319,  1.08622799],\n",
       "       ...,\n",
       "       [ 0.14774467,  0.4591451 , -1.59971174, ...,  1.29335859,\n",
       "         0.52470319, -0.25130962],\n",
       "       [ 2.12289614, -2.15725197, -1.59971174, ...,  1.29335859,\n",
       "         0.52470319,  0.8846493 ],\n",
       "       [-1.42029981,  1.41384392, -0.01210752, ...,  0.35515174,\n",
       "         0.52470319,  0.72833732]])"
      ]
     },
     "execution_count": 84,
     "metadata": {},
     "output_type": "execute_result"
    }
   ],
   "source": [
    "x_train"
   ]
  },
  {
   "cell_type": "markdown",
   "id": "b7f02b25",
   "metadata": {},
   "source": [
    "Standard Scaler:"
   ]
  },
  {
   "cell_type": "code",
   "execution_count": 85,
   "id": "6b21ffae",
   "metadata": {},
   "outputs": [
    {
     "data": {
      "text/plain": [
       "array([[-0.29549976,  0.07283158, -1.59971174, ...,  1.29335859,\n",
       "         0.52470319, -1.36790521],\n",
       "       [-1.42029981, -1.48152376,  0.90206079, ...,  0.35515174,\n",
       "         0.52470319, -0.1389652 ],\n",
       "       [ 0.14774467,  1.48488887, -0.01210752, ...,  0.35515174,\n",
       "         0.52470319,  1.08622799],\n",
       "       ...,\n",
       "       [ 0.14774467,  0.4591451 , -1.59971174, ...,  1.29335859,\n",
       "         0.52470319, -0.25130962],\n",
       "       [ 2.12289614, -2.15725197, -1.59971174, ...,  1.29335859,\n",
       "         0.52470319,  0.8846493 ],\n",
       "       [-1.42029981,  1.41384392, -0.01210752, ...,  0.35515174,\n",
       "         0.52470319,  0.72833732]])"
      ]
     },
     "execution_count": 85,
     "metadata": {},
     "output_type": "execute_result"
    }
   ],
   "source": [
    "from sklearn.preprocessing import StandardScaler\n",
    "sc=StandardScaler()\n",
    "x_train=sc.fit_transform(x_train)\n",
    "x_train"
   ]
  },
  {
   "cell_type": "markdown",
   "id": "4e96e3c7",
   "metadata": {},
   "source": [
    "# MODEL BUILDING:"
   ]
  },
  {
   "cell_type": "markdown",
   "id": "110cff30",
   "metadata": {},
   "source": [
    "# Linear Regression:"
   ]
  },
  {
   "cell_type": "code",
   "execution_count": 86,
   "id": "fa1038f3",
   "metadata": {},
   "outputs": [],
   "source": [
    "from sklearn.model_selection import train_test_split\n",
    "from sklearn.linear_model import LinearRegression\n",
    "lr=LinearRegression()\n",
    "from sklearn.metrics import r2_score\n",
    "from sklearn.metrics import mean_absolute_error\n",
    "from sklearn.metrics import mean_squared_error\n",
    "import numpy as np"
   ]
  },
  {
   "cell_type": "code",
   "execution_count": 88,
   "id": "ee80e53d",
   "metadata": {},
   "outputs": [],
   "source": [
    "xtrain,xtest,ytrain,ytest=train_test_split(x_train,y_train,test_size=0.20,random_state=75)"
   ]
  },
  {
   "cell_type": "code",
   "execution_count": 89,
   "id": "890dbe97",
   "metadata": {},
   "outputs": [
    {
     "data": {
      "text/plain": [
       "LinearRegression()"
      ]
     },
     "execution_count": 89,
     "metadata": {},
     "output_type": "execute_result"
    }
   ],
   "source": [
    "lr.fit(xtrain,ytrain)"
   ]
  },
  {
   "cell_type": "code",
   "execution_count": 90,
   "id": "e9effc41",
   "metadata": {},
   "outputs": [
    {
     "data": {
      "text/plain": [
       "array([15341.13639243,  2381.73041864, 15747.47756874, ...,\n",
       "       12980.20187411, 13337.50162359,  9102.05383948])"
      ]
     },
     "execution_count": 90,
     "metadata": {},
     "output_type": "execute_result"
    }
   ],
   "source": [
    "lr_pred=lr.predict(xtest)\n",
    "lr_pred"
   ]
  },
  {
   "cell_type": "code",
   "execution_count": 91,
   "id": "4bfee8be",
   "metadata": {},
   "outputs": [
    {
     "name": "stdout",
     "output_type": "stream",
     "text": [
      "r2_score: 91.80639471033483\n",
      "Mean Absolute Error: 637.3724339185584\n",
      "Mean Squared Error: 1823549.8226210275\n",
      "Root Mean Square Error: 1350.3887672152148\n"
     ]
    }
   ],
   "source": [
    "print('r2_score:',r2_score(ytest,lr_pred)*100)\n",
    "print('Mean Absolute Error:',mean_absolute_error(ytest,lr_pred))\n",
    "print('Mean Squared Error:',mean_squared_error(ytest,lr_pred))\n",
    "print('Root Mean Square Error:',np.sqrt(mean_squared_error(ytest,lr_pred)))"
   ]
  },
  {
   "cell_type": "code",
   "execution_count": 92,
   "id": "afe463bf",
   "metadata": {},
   "outputs": [
    {
     "data": {
      "image/png": "[encoded data removed]",
      "text/plain": [
       "<Figure size 576x432 with 1 Axes>"
      ]
     },
     "metadata": {
      "needs_background": "light"
     },
     "output_type": "display_data"
    }
   ],
   "source": [
    "plt.figure(figsize=(8,6))\n",
    "plt.scatter(x=ytest, y=lr_pred, color='r')\n",
    "plt.plot(ytest,ytest, color='b')\n",
    "plt.xlabel('Actual Value',fontsize=14)\n",
    "plt.ylabel('Predicted Value',fontsize=14)\n",
    "plt.title('Linear Regression',fontsize=18)\n",
    "plt.show()"
   ]
  },
  {
   "cell_type": "markdown",
   "id": "165cae7c",
   "metadata": {},
   "source": [
    "# Regularization:"
   ]
  },
  {
   "cell_type": "code",
   "execution_count": 93,
   "id": "716d0a3e",
   "metadata": {},
   "outputs": [],
   "source": [
    "from sklearn.model_selection import GridSearchCV\n",
    "from sklearn.model_selection import cross_val_score"
   ]
  },
  {
   "cell_type": "markdown",
   "id": "479f8e4a",
   "metadata": {},
   "source": [
    "# 1.Lasso:"
   ]
  },
  {
   "cell_type": "code",
   "execution_count": 94,
   "id": "805ae7c9",
   "metadata": {},
   "outputs": [
    {
     "name": "stdout",
     "output_type": "stream",
     "text": [
      "{'alpha': 1, 'random_state': 0}\n"
     ]
    }
   ],
   "source": [
    "from sklearn.linear_model import Lasso\n",
    "\n",
    "parameters = {'alpha':[.0001, .001, .01, .1, 1, 10],'random_state':list(range(0,10))}\n",
    "ls = Lasso()\n",
    "clf = GridSearchCV(ls,parameters)\n",
    "clf.fit(xtrain,ytrain)\n",
    "\n",
    "print(clf.best_params_)"
   ]
  },
  {
   "cell_type": "code",
   "execution_count": 95,
   "id": "c3e5675f",
   "metadata": {},
   "outputs": [
    {
     "name": "stdout",
     "output_type": "stream",
     "text": [
      "At cv:- 2\n",
      "Cross validation score is:- 93.06954851271415\n",
      "R2_score is :- 91.80533625486676\n",
      "\n",
      "\n",
      "At cv:- 3\n",
      "Cross validation score is:- 93.06226931945925\n",
      "R2_score is :- 91.80533625486676\n",
      "\n",
      "\n",
      "At cv:- 4\n",
      "Cross validation score is:- 93.06320005140843\n",
      "R2_score is :- 91.80533625486676\n",
      "\n",
      "\n",
      "At cv:- 5\n",
      "Cross validation score is:- 93.0838595284218\n",
      "R2_score is :- 91.80533625486676\n",
      "\n",
      "\n",
      "At cv:- 6\n",
      "Cross validation score is:- 93.17593200631433\n",
      "R2_score is :- 91.80533625486676\n",
      "\n",
      "\n",
      "At cv:- 7\n",
      "Cross validation score is:- 93.24554799718861\n",
      "R2_score is :- 91.80533625486676\n",
      "\n",
      "\n",
      "At cv:- 8\n",
      "Cross validation score is:- 93.18682959508835\n",
      "R2_score is :- 91.80533625486676\n",
      "\n",
      "\n",
      "At cv:- 9\n",
      "Cross validation score is:- 93.27865177439126\n",
      "R2_score is :- 91.80533625486676\n",
      "\n",
      "\n"
     ]
    }
   ],
   "source": [
    "ls = Lasso(alpha=1,random_state=0)\n",
    "ls.fit(xtrain,ytrain)\n",
    "ls.score(xtrain,ytrain)\n",
    "pred_ls = ls.predict(xtest)\n",
    "\n",
    "lss = r2_score(ytest,pred_ls)\n",
    "for j in range(2,10):\n",
    "    lsscore = cross_val_score(ls,x_train,y_train,cv=j)\n",
    "    lsc = lsscore.mean() \n",
    "    print(\"At cv:-\",j)\n",
    "    print(\"Cross validation score is:-\",lsc*100 )\n",
    "    print(\"R2_score is :-\",lss*100)\n",
    "    print(\"\\n\")"
   ]
  },
  {
   "cell_type": "code",
   "execution_count": 96,
   "id": "0f74dbd5",
   "metadata": {},
   "outputs": [
    {
     "name": "stdout",
     "output_type": "stream",
     "text": [
      "At cv: 3\n",
      "Cross validation score is: 93.06226931945925\n",
      "R2_Score is: 91.80533625486676\n"
     ]
    }
   ],
   "source": [
    "print(\"At cv:\",3)\n",
    "print(\"Cross validation score is:\",93.06226931945925)\n",
    "print(\"R2_Score is:\",91.80533625486676)"
   ]
  },
  {
   "cell_type": "code",
   "execution_count": 97,
   "id": "a12aa006",
   "metadata": {},
   "outputs": [
    {
     "name": "stdout",
     "output_type": "stream",
     "text": [
      "r2_score: 91.80533625486676\n",
      "Mean Absolute Error: 637.0540747583436\n",
      "Mean Squared Error: 1823785.3900193605\n",
      "Root Mean Square Error: 1350.475986465276\n"
     ]
    }
   ],
   "source": [
    "print('r2_score:',r2_score(ytest,pred_ls)*100)\n",
    "print('Mean Absolute Error:',mean_absolute_error(ytest,pred_ls))\n",
    "print('Mean Squared Error:',mean_squared_error(ytest,pred_ls))\n",
    "print('Root Mean Square Error:',np.sqrt(mean_squared_error(ytest,pred_ls)))"
   ]
  },
  {
   "cell_type": "code",
   "execution_count": 98,
   "id": "2a26f818",
   "metadata": {},
   "outputs": [
    {
     "data": {
      "image/png": "[encoded data removed]",
      "text/plain": [
       "<Figure size 576x432 with 1 Axes>"
      ]
     },
     "metadata": {
      "needs_background": "light"
     },
     "output_type": "display_data"
    }
   ],
   "source": [
    "plt.figure(figsize=(8,6))\n",
    "plt.scatter(x=ytest, y=pred_ls, color='r')\n",
    "plt.plot(ytest,ytest, color='b')\n",
    "plt.xlabel('Actual Value',fontsize=14)\n",
    "plt.ylabel('Predicted Value',fontsize=14)\n",
    "plt.title('Lasso Regression',fontsize=18)\n",
    "plt.show()"
   ]
  },
  {
   "cell_type": "markdown",
   "id": "25ffaf2f",
   "metadata": {},
   "source": [
    "# 2.Ridge:"
   ]
  },
  {
   "cell_type": "code",
   "execution_count": 99,
   "id": "1eb27b44",
   "metadata": {},
   "outputs": [
    {
     "name": "stdout",
     "output_type": "stream",
     "text": [
      "{'alpha': 0.001, 'copy_X': True, 'fit_intercept': True, 'normalize': True, 'random_state': 0, 'tol': 0.001}\n"
     ]
    }
   ],
   "source": [
    "from sklearn.linear_model import Ridge\n",
    "\n",
    "parameters = {'alpha':[.0001, .001, .01, .1, 1],'fit_intercept':[True,False],'normalize':[True,False],'copy_X':[True,False],'tol':[0.001,0.01,0.1],'random_state':[0,1,2,3,4,5,6,7,8,9]}\n",
    "rd = Ridge()\n",
    "clf = GridSearchCV(rd,parameters)\n",
    "clf.fit(xtrain,ytrain)\n",
    "\n",
    "print(clf.best_params_)"
   ]
  },
  {
   "cell_type": "code",
   "execution_count": 100,
   "id": "77a89bf8",
   "metadata": {},
   "outputs": [
    {
     "name": "stdout",
     "output_type": "stream",
     "text": [
      "R2 Score: 91.8038462577712\n",
      "Cross Val Score: 93.41185241793232\n"
     ]
    }
   ],
   "source": [
    "rd = Ridge(alpha=0.001, copy_X= True, fit_intercept= True, normalize=True, random_state= 0, tol= 0.001)\n",
    "rd.fit(xtrain,ytrain)\n",
    "rd.score(xtrain,ytrain)\n",
    "pred_rd = rd.predict(xtest)\n",
    "\n",
    "rds = r2_score(ytest,pred_rd)\n",
    "print('R2 Score:',rds*100)\n",
    "\n",
    "rdscore = cross_val_score(rd,xtrain,ytrain,cv=3)\n",
    "rdc = rdscore.mean() \n",
    "print('Cross Val Score:',rdc*100)"
   ]
  },
  {
   "cell_type": "code",
   "execution_count": 101,
   "id": "92883510",
   "metadata": {},
   "outputs": [
    {
     "name": "stdout",
     "output_type": "stream",
     "text": [
      "r2_score: 91.8038462577712\n",
      "Mean Absolute Error: 636.2117133944905\n",
      "Mean Squared Error: 1824117.0003231608\n",
      "Root Mean Square Error: 1350.5987562274595\n"
     ]
    }
   ],
   "source": [
    "print('r2_score:',r2_score(ytest,pred_rd)*100)\n",
    "print('Mean Absolute Error:',mean_absolute_error(ytest,pred_rd))\n",
    "print('Mean Squared Error:',mean_squared_error(ytest,pred_rd))\n",
    "print('Root Mean Square Error:',np.sqrt(mean_squared_error(ytest,pred_rd)))"
   ]
  },
  {
   "cell_type": "code",
   "execution_count": 102,
   "id": "7adcd419",
   "metadata": {},
   "outputs": [
    {
     "data": {
      "image/png": "[encoded data removed]",
      "text/plain": [
       "<Figure size 576x432 with 1 Axes>"
      ]
     },
     "metadata": {
      "needs_background": "light"
     },
     "output_type": "display_data"
    }
   ],
   "source": [
    "plt.figure(figsize=(8,6))\n",
    "plt.scatter(x=ytest, y=pred_rd, color='r')\n",
    "plt.plot(ytest,ytest, color='b')\n",
    "plt.xlabel('Actual Value',fontsize=14)\n",
    "plt.ylabel('Predicted Vlaue',fontsize=14)\n",
    "plt.title('Ridge Regression',fontsize=18)\n",
    "plt.show()"
   ]
  },
  {
   "cell_type": "markdown",
   "id": "a47383ca",
   "metadata": {},
   "source": [
    "# Approaching more Regressors:"
   ]
  },
  {
   "cell_type": "code",
   "execution_count": 103,
   "id": "2b7ce9a4",
   "metadata": {},
   "outputs": [],
   "source": [
    "from sklearn.tree import DecisionTreeRegressor\n",
    "from sklearn.neighbors import KNeighborsRegressor\n",
    "from sklearn.svm import SVR\n",
    "from sklearn.linear_model import SGDRegressor"
   ]
  },
  {
   "cell_type": "markdown",
   "id": "980d37a9",
   "metadata": {},
   "source": [
    "# 1.Decision Tree Regressor:"
   ]
  },
  {
   "cell_type": "code",
   "execution_count": 104,
   "id": "1580d440",
   "metadata": {},
   "outputs": [
    {
     "name": "stdout",
     "output_type": "stream",
     "text": [
      "R2 Score: 99.38434760233888\n",
      "Cross Val Score: 99.73258962664842\n"
     ]
    }
   ],
   "source": [
    "dtr=DecisionTreeRegressor(criterion='mse',splitter='best')\n",
    "dtr.fit(xtrain,ytrain)\n",
    "dtr.score(xtrain,ytrain)\n",
    "pred_dtr = dtr.predict(xtest)\n",
    "\n",
    "dtr_r2 = r2_score(ytest,pred_dtr)\n",
    "print('R2 Score:',dtr_r2*100)\n",
    "\n",
    "dtrscore = cross_val_score(dtr,x_train,y_train,cv=3)\n",
    "dtrcc = dtrscore.mean() \n",
    "print('Cross Val Score:',dtrcc*100)"
   ]
  },
  {
   "cell_type": "code",
   "execution_count": 105,
   "id": "27caf374",
   "metadata": {},
   "outputs": [
    {
     "name": "stdout",
     "output_type": "stream",
     "text": [
      "r2_score: 99.38434760233888\n",
      "Mean Absolute Error: 10.425830603649977\n",
      "Mean Squared Error: 137018.17220402433\n",
      "Root Mean Square Error: 370.15965772086014\n"
     ]
    }
   ],
   "source": [
    "print('r2_score:',r2_score(ytest,pred_dtr)*100)\n",
    "print('Mean Absolute Error:',mean_absolute_error(ytest,pred_dtr))\n",
    "print('Mean Squared Error:',mean_squared_error(ytest,pred_dtr))\n",
    "print('Root Mean Square Error:',np.sqrt(mean_squared_error(ytest,pred_dtr)))"
   ]
  },
  {
   "cell_type": "code",
   "execution_count": 106,
   "id": "f9c4a69c",
   "metadata": {},
   "outputs": [
    {
     "data": {
      "image/png": "[encoded data removed]",
      "text/plain": [
       "<Figure size 576x432 with 1 Axes>"
      ]
     },
     "metadata": {
      "needs_background": "light"
     },
     "output_type": "display_data"
    }
   ],
   "source": [
    "plt.figure(figsize=(8,6))\n",
    "plt.scatter(x=ytest, y=pred_dtr, color='r')\n",
    "plt.plot(ytest,ytest, color='b')\n",
    "plt.xlabel('Actual Value',fontsize=14)\n",
    "plt.ylabel('Predicted Vlaue',fontsize=14)\n",
    "plt.title('Decision Tree Regressor',fontsize=18)\n",
    "plt.show()"
   ]
  },
  {
   "cell_type": "markdown",
   "id": "2e0f83d6",
   "metadata": {},
   "source": [
    "All the points lie on the best fit line."
   ]
  },
  {
   "cell_type": "markdown",
   "id": "f4084c8a",
   "metadata": {},
   "source": [
    "# 2.KNeighbors Regressor"
   ]
  },
  {
   "cell_type": "code",
   "execution_count": 107,
   "id": "ed8faf25",
   "metadata": {},
   "outputs": [
    {
     "name": "stdout",
     "output_type": "stream",
     "text": [
      "R2 Score: 95.27541206394895\n",
      "Cross Val Score: 93.10729756786338\n"
     ]
    }
   ],
   "source": [
    "knr=KNeighborsRegressor(n_neighbors=5,algorithm='auto')\n",
    "knr.fit(xtrain,ytrain)\n",
    "knr.score(xtrain,ytrain)\n",
    "pred_knr = knr.predict(xtest)\n",
    "\n",
    "knr_r2 = r2_score(ytest,pred_knr)\n",
    "print('R2 Score:',knr_r2*100)\n",
    "\n",
    "knrscore = cross_val_score(knr,x_train,y_train,cv=3)\n",
    "knrcc = knrscore.mean() \n",
    "print('Cross Val Score:',knrcc*100)"
   ]
  },
  {
   "cell_type": "code",
   "execution_count": 108,
   "id": "3b3429a0",
   "metadata": {},
   "outputs": [
    {
     "name": "stdout",
     "output_type": "stream",
     "text": [
      "r2_score: 95.27541206394895\n",
      "Mean Absolute Error: 507.2226485727655\n",
      "Mean Squared Error: 1051493.3522133834\n",
      "Root Mean Square Error: 1025.4234989570814\n"
     ]
    }
   ],
   "source": [
    "print('r2_score:',r2_score(ytest,pred_knr)*100)\n",
    "print('Mean Absolute Error:',mean_absolute_error(ytest,pred_knr))\n",
    "print('Mean Squared Error:',mean_squared_error(ytest,pred_knr))\n",
    "print('Root Mean Square Error:',np.sqrt(mean_squared_error(ytest,pred_knr)))"
   ]
  },
  {
   "cell_type": "code",
   "execution_count": 109,
   "id": "79495aa5",
   "metadata": {},
   "outputs": [
    {
     "data": {
      "image/png": "[encoded data removed]",
      "text/plain": [
       "<Figure size 576x432 with 1 Axes>"
      ]
     },
     "metadata": {
      "needs_background": "light"
     },
     "output_type": "display_data"
    }
   ],
   "source": [
    "plt.figure(figsize=(8,6))\n",
    "plt.scatter(x=ytest, y=pred_knr, color='r')\n",
    "plt.plot(ytest,ytest, color='b')\n",
    "plt.xlabel('Actual Value',fontsize=14)\n",
    "plt.ylabel('Predicted Vlaue',fontsize=14)\n",
    "plt.title('KNeighbors Regressor',fontsize=18)\n",
    "plt.show()"
   ]
  },
  {
   "cell_type": "markdown",
   "id": "f403b849",
   "metadata": {},
   "source": [
    "# 3.SVR:"
   ]
  },
  {
   "cell_type": "code",
   "execution_count": 110,
   "id": "4053f7fd",
   "metadata": {},
   "outputs": [
    {
     "name": "stdout",
     "output_type": "stream",
     "text": [
      "R2 Score: 9.419374801082824\n",
      "Cross Val Score: 7.6325966137217245\n"
     ]
    }
   ],
   "source": [
    "svr=SVR()\n",
    "svr.fit(xtrain,ytrain)\n",
    "svr.score(xtrain,ytrain)\n",
    "pred_svr = svr.predict(xtest)\n",
    "\n",
    "svr_r2 = r2_score(ytest,pred_svr)\n",
    "print('R2 Score:',svr_r2*100)\n",
    "\n",
    "svr_score = cross_val_score(svr,x_train,y_train,cv=3)\n",
    "svr_cc = svr_score.mean() \n",
    "print('Cross Val Score:',svr_cc*100)"
   ]
  },
  {
   "cell_type": "code",
   "execution_count": 111,
   "id": "f63bf216",
   "metadata": {},
   "outputs": [
    {
     "name": "stdout",
     "output_type": "stream",
     "text": [
      "r2_score: 9.419374801082824\n",
      "Mean Absolute Error: 3309.0332554091883\n",
      "Mean Squared Error: 20159414.223032106\n",
      "Root Mean Square Error: 4489.923632204907\n"
     ]
    }
   ],
   "source": [
    "print('r2_score:',r2_score(ytest,pred_svr)*100)\n",
    "print('Mean Absolute Error:',mean_absolute_error(ytest,pred_svr))\n",
    "print('Mean Squared Error:',mean_squared_error(ytest,pred_svr))\n",
    "print('Root Mean Square Error:',np.sqrt(mean_squared_error(ytest,pred_svr)))"
   ]
  },
  {
   "cell_type": "code",
   "execution_count": 112,
   "id": "fc53367f",
   "metadata": {},
   "outputs": [
    {
     "data": {
      "image/png": "[encoded data removed]",
      "text/plain": [
       "<Figure size 576x432 with 1 Axes>"
      ]
     },
     "metadata": {
      "needs_background": "light"
     },
     "output_type": "display_data"
    }
   ],
   "source": [
    "plt.figure(figsize=(8,6))\n",
    "plt.scatter(x=ytest, y=pred_svr, color='r')\n",
    "plt.plot(ytest,ytest, color='b')\n",
    "plt.xlabel('Actual Value',fontsize=14)\n",
    "plt.ylabel('Predicted Vlaue',fontsize=14)\n",
    "plt.title('SVR',fontsize=18)\n",
    "plt.show()"
   ]
  },
  {
   "cell_type": "markdown",
   "id": "338d6988",
   "metadata": {},
   "source": [
    "# 4:SGD Regressor:"
   ]
  },
  {
   "cell_type": "code",
   "execution_count": 113,
   "id": "110d3ddb",
   "metadata": {},
   "outputs": [
    {
     "name": "stdout",
     "output_type": "stream",
     "text": [
      "R2 Score: 91.65822015464396\n",
      "Cross Val Score: 93.06934672182122\n"
     ]
    }
   ],
   "source": [
    "sgd=SGDRegressor()\n",
    "sgd.fit(xtrain,ytrain)\n",
    "sgd.score(xtrain,ytrain)\n",
    "pred_sgd = sgd.predict(xtest)\n",
    "\n",
    "sgd_r2 = r2_score(ytest,pred_sgd)\n",
    "print('R2 Score:',sgd_r2*100)\n",
    "\n",
    "sgd_score = cross_val_score(sgd,x_train,y_train,cv=3)\n",
    "sgd_cc = sgd_score.mean() \n",
    "print('Cross Val Score:',sgd_cc*100)"
   ]
  },
  {
   "cell_type": "code",
   "execution_count": 114,
   "id": "87deedd0",
   "metadata": {},
   "outputs": [
    {
     "name": "stdout",
     "output_type": "stream",
     "text": [
      "r2_score: 91.65822015464396\n",
      "Mean Absolute Error: 617.6337089904633\n",
      "Mean Squared Error: 1856527.208667174\n",
      "Root Mean Square Error: 1362.5443877786786\n"
     ]
    }
   ],
   "source": [
    "print('r2_score:',r2_score(ytest,pred_sgd)*100)\n",
    "print('Mean Absolute Error:',mean_absolute_error(ytest,pred_sgd))\n",
    "print('Mean Squared Error:',mean_squared_error(ytest,pred_sgd))\n",
    "print('Root Mean Square Error:',np.sqrt(mean_squared_error(ytest,pred_sgd)))"
   ]
  },
  {
   "cell_type": "code",
   "execution_count": 115,
   "id": "2d59b253",
   "metadata": {},
   "outputs": [
    {
     "data": {
      "image/png": "[encoded data removed]",
      "text/plain": [
       "<Figure size 576x432 with 1 Axes>"
      ]
     },
     "metadata": {
      "needs_background": "light"
     },
     "output_type": "display_data"
    }
   ],
   "source": [
    "plt.figure(figsize=(8,6))\n",
    "plt.scatter(x=ytest, y=pred_sgd, color='r')\n",
    "plt.plot(ytest,ytest, color='b')\n",
    "plt.xlabel('Actual Value',fontsize=14)\n",
    "plt.ylabel('Predicted Vlaue',fontsize=14)\n",
    "plt.title('SGD Regressor',fontsize=18)\n",
    "plt.show()"
   ]
  },
  {
   "cell_type": "markdown",
   "id": "5e77e5bc",
   "metadata": {},
   "source": [
    "# Ensemble Methods:"
   ]
  },
  {
   "cell_type": "markdown",
   "id": "853f4f75",
   "metadata": {},
   "source": [
    "# 1.Random Forest Regressor:"
   ]
  },
  {
   "cell_type": "code",
   "execution_count": 116,
   "id": "be17e36b",
   "metadata": {},
   "outputs": [
    {
     "name": "stdout",
     "output_type": "stream",
     "text": [
      "R2 Score: 99.13523523310816\n",
      "Cross Val Score: 99.765248065453\n"
     ]
    }
   ],
   "source": [
    "from sklearn.ensemble import RandomForestRegressor\n",
    "\n",
    "rf=RandomForestRegressor(n_estimators=100,criterion='mse')\n",
    "rf.fit(xtrain,ytrain)\n",
    "rf.score(xtrain,ytrain)\n",
    "pred_rf = rf.predict(xtest)\n",
    "\n",
    "rf_r2 = r2_score(ytest,pred_rf)\n",
    "print('R2 Score:',rf_r2*100)\n",
    "\n",
    "rf_score = cross_val_score(rf,x_train,y_train,cv=3)\n",
    "rf_cc = rf_score.mean() \n",
    "print('Cross Val Score:',rf_cc*100)"
   ]
  },
  {
   "cell_type": "code",
   "execution_count": 117,
   "id": "5797c155",
   "metadata": {},
   "outputs": [
    {
     "name": "stdout",
     "output_type": "stream",
     "text": [
      "r2_score: 99.13523523310816\n",
      "Mean Absolute Error: 11.490182498830144\n",
      "Mean Squared Error: 192460.04433036968\n",
      "Root Mean Square Error: 438.7026832951557\n"
     ]
    }
   ],
   "source": [
    "print('r2_score:',r2_score(ytest,pred_rf)*100)\n",
    "print('Mean Absolute Error:',mean_absolute_error(ytest,pred_rf))\n",
    "print('Mean Squared Error:',mean_squared_error(ytest,pred_rf))\n",
    "print('Root Mean Square Error:',np.sqrt(mean_squared_error(ytest,pred_rf)))"
   ]
  },
  {
   "cell_type": "code",
   "execution_count": 118,
   "id": "ce3ef470",
   "metadata": {},
   "outputs": [
    {
     "data": {
      "image/png": "[encoded data removed]",
      "text/plain": [
       "<Figure size 576x432 with 1 Axes>"
      ]
     },
     "metadata": {
      "needs_background": "light"
     },
     "output_type": "display_data"
    }
   ],
   "source": [
    "plt.figure(figsize=(8,6))\n",
    "plt.scatter(x=ytest, y=pred_rf, color='r')\n",
    "plt.plot(ytest,ytest, color='b')\n",
    "plt.xlabel('Actual Value',fontsize=14)\n",
    "plt.ylabel('Predicted Value',fontsize=14)\n",
    "plt.title('Random Forest regressor',fontsize=18)\n",
    "plt.show()"
   ]
  },
  {
   "cell_type": "markdown",
   "id": "2cd5ecdf",
   "metadata": {},
   "source": [
    "All the data points lie on the best fit line."
   ]
  },
  {
   "cell_type": "markdown",
   "id": "d6927d03",
   "metadata": {},
   "source": [
    "# 2.ADA Boost Regressor:"
   ]
  },
  {
   "cell_type": "code",
   "execution_count": 119,
   "id": "61fdb733",
   "metadata": {},
   "outputs": [
    {
     "name": "stdout",
     "output_type": "stream",
     "text": [
      "R2 Score: 98.0304630697324\n",
      "Cross Val Score: 98.04737394150696\n"
     ]
    }
   ],
   "source": [
    "from sklearn.ensemble import AdaBoostRegressor\n",
    "\n",
    "ada=AdaBoostRegressor(n_estimators=50)\n",
    "ada.fit(xtrain,ytrain)\n",
    "ada.score(xtrain,ytrain)\n",
    "pred_ada = ada.predict(xtest)\n",
    "\n",
    "ada_r2 = r2_score(ytest,pred_ada)\n",
    "print('R2 Score:',ada_r2*100)\n",
    "\n",
    "ada_score = cross_val_score(ada,x_train,y_train,cv=3)\n",
    "ada_cc = ada_score.mean() \n",
    "print('Cross Val Score:',ada_cc*100)"
   ]
  },
  {
   "cell_type": "code",
   "execution_count": 120,
   "id": "b6870591",
   "metadata": {},
   "outputs": [
    {
     "name": "stdout",
     "output_type": "stream",
     "text": [
      "r2_score: 98.0304630697324\n",
      "Mean Absolute Error: 373.7935216157569\n",
      "Mean Squared Error: 438335.57913329685\n",
      "Root Mean Square Error: 662.0691649165492\n"
     ]
    }
   ],
   "source": [
    "print('r2_score:',r2_score(ytest,pred_ada)*100)\n",
    "print('Mean Absolute Error:',mean_absolute_error(ytest,pred_ada))\n",
    "print('Mean Squared Error:',mean_squared_error(ytest,pred_ada))\n",
    "print('Root Mean Square Error:',np.sqrt(mean_squared_error(ytest,pred_ada)))"
   ]
  },
  {
   "cell_type": "code",
   "execution_count": 121,
   "id": "95790cbe",
   "metadata": {},
   "outputs": [
    {
     "data": {
      "image/png": "[encoded data removed]",
      "text/plain": [
       "<Figure size 576x432 with 1 Axes>"
      ]
     },
     "metadata": {
      "needs_background": "light"
     },
     "output_type": "display_data"
    }
   ],
   "source": [
    "plt.figure(figsize=(8,6))\n",
    "plt.scatter(x=ytest, y=pred_ada, color='g')\n",
    "plt.plot(ytest,ytest, color='b')\n",
    "plt.xlabel('Actual Value',fontsize=14)\n",
    "plt.ylabel('Predicted Value',fontsize=14)\n",
    "plt.title('Ada Boost Regressor',fontsize=18)\n",
    "plt.show()"
   ]
  },
  {
   "cell_type": "markdown",
   "id": "3ac86181",
   "metadata": {},
   "source": [
    "# 3.Gradient Boosting Regressor:"
   ]
  },
  {
   "cell_type": "code",
   "execution_count": 122,
   "id": "3cb1e2e3",
   "metadata": {},
   "outputs": [
    {
     "name": "stdout",
     "output_type": "stream",
     "text": [
      "R2 Score: 99.03504530320527\n",
      "Cross Val Score: 99.80199910956277\n"
     ]
    }
   ],
   "source": [
    "from sklearn.ensemble import GradientBoostingRegressor\n",
    "gbr= GradientBoostingRegressor(criterion='friedman_mse',loss='huber',n_estimators=200)\n",
    "gbr.fit(xtrain, ytrain)\n",
    "gbr.score(xtrain, ytrain)\n",
    "pred_gbr =gbr.predict(xtest)\n",
    "\n",
    "gbrs= r2_score(ytest,pred_gbr)\n",
    "print('R2 Score:',gbrs*100)\n",
    "\n",
    "gbscore = cross_val_score(gbr,x_train,y_train,cv=3)\n",
    "gbrc= gbscore.mean() \n",
    "print('Cross Val Score:',gbrc*100)"
   ]
  },
  {
   "cell_type": "code",
   "execution_count": 123,
   "id": "1855cef4",
   "metadata": {},
   "outputs": [
    {
     "name": "stdout",
     "output_type": "stream",
     "text": [
      "r2_score: 99.03504530320527\n",
      "Mean Absolute Error: 30.877898307977066\n",
      "Mean Squared Error: 214758.0831599073\n",
      "Root Mean Square Error: 463.419985714802\n"
     ]
    }
   ],
   "source": [
    "print('r2_score:',r2_score(ytest,pred_gbr)*100)\n",
    "print('Mean Absolute Error:',mean_absolute_error(ytest,pred_gbr))\n",
    "print('Mean Squared Error:',mean_squared_error(ytest,pred_gbr))\n",
    "print('Root Mean Square Error:',np.sqrt(mean_squared_error(ytest,pred_gbr)))"
   ]
  },
  {
   "cell_type": "code",
   "execution_count": 124,
   "id": "b4f4adb4",
   "metadata": {},
   "outputs": [
    {
     "data": {
      "image/png": "[encoded data removed]",
      "text/plain": [
       "<Figure size 576x432 with 1 Axes>"
      ]
     },
     "metadata": {
      "needs_background": "light"
     },
     "output_type": "display_data"
    }
   ],
   "source": [
    "plt.figure(figsize=(8,6))\n",
    "plt.scatter(x=ytest, y=pred_gbr, color='r')\n",
    "plt.plot(ytest,ytest, color='y')\n",
    "plt.xlabel('Actual Value',fontsize=14)\n",
    "plt.ylabel('Predicted Value',fontsize=14)\n",
    "plt.title('Gradient Boosting Regressor',fontsize=18)\n",
    "plt.show()"
   ]
  },
  {
   "cell_type": "markdown",
   "id": "00db67ed",
   "metadata": {},
   "source": [
    "# The best model is AdaBoost Regressor. Since the difference between the percentage score of cross validation and r2_score is optimum."
   ]
  },
  {
   "cell_type": "markdown",
   "id": "02b704bf",
   "metadata": {},
   "source": [
    "# Model Saving:"
   ]
  },
  {
   "cell_type": "code",
   "execution_count": 131,
   "id": "025a9877",
   "metadata": {},
   "outputs": [],
   "source": [
    "import pickle\n",
    "filename = 'flight_price.pkl'\n",
    "pickle.dump(rf, open(filename, 'wb'))"
   ]
  },
  {
   "cell_type": "markdown",
   "id": "8b1ed10d",
   "metadata": {},
   "source": [
    "# Conclusion:"
   ]
  },
  {
   "cell_type": "code",
   "execution_count": 132,
   "id": "da185335",
   "metadata": {},
   "outputs": [
    {
     "data": {
      "text/plain": [
       "array([15764.,  3573., 16389., ..., 12273., 12797.,  8452.])"
      ]
     },
     "execution_count": 132,
     "metadata": {},
     "output_type": "execute_result"
    }
   ],
   "source": [
    "import numpy as np\n",
    "a=np.array(ytest)\n",
    "a"
   ]
  },
  {
   "cell_type": "code",
   "execution_count": 133,
   "id": "be2ded09",
   "metadata": {},
   "outputs": [
    {
     "data": {
      "text/plain": [
       "array([15764.48,  3573.  , 16380.8 , ..., 12273.69, 12804.33,  8452.  ])"
      ]
     },
     "execution_count": 133,
     "metadata": {},
     "output_type": "execute_result"
    }
   ],
   "source": [
    "predicted=np.array(rf.predict(xtest))\n",
    "predicted"
   ]
  },
  {
   "cell_type": "code",
   "execution_count": 134,
   "id": "f0ccc5ee",
   "metadata": {},
   "outputs": [
    {
     "data": {
      "text/html": [
       "<div>\n",
       "<style scoped>\n",
       "    .dataframe tbody tr th:only-of-type {\n",
       "        vertical-align: middle;\n",
       "    }\n",
       "\n",
       "    .dataframe tbody tr th {\n",
       "        vertical-align: top;\n",
       "    }\n",
       "\n",
       "    .dataframe thead th {\n",
       "        text-align: right;\n",
       "    }\n",
       "</style>\n",
       "<table border=\"1\" class=\"dataframe\">\n",
       "  <thead>\n",
       "    <tr style=\"text-align: right;\">\n",
       "      <th></th>\n",
       "      <th>original</th>\n",
       "      <th>predicted</th>\n",
       "    </tr>\n",
       "  </thead>\n",
       "  <tbody>\n",
       "    <tr>\n",
       "      <th>0</th>\n",
       "      <td>15764.0</td>\n",
       "      <td>15764.48</td>\n",
       "    </tr>\n",
       "    <tr>\n",
       "      <th>1</th>\n",
       "      <td>3573.0</td>\n",
       "      <td>3573.00</td>\n",
       "    </tr>\n",
       "    <tr>\n",
       "      <th>2</th>\n",
       "      <td>16389.0</td>\n",
       "      <td>16380.80</td>\n",
       "    </tr>\n",
       "    <tr>\n",
       "      <th>3</th>\n",
       "      <td>4668.0</td>\n",
       "      <td>4668.00</td>\n",
       "    </tr>\n",
       "    <tr>\n",
       "      <th>4</th>\n",
       "      <td>4077.0</td>\n",
       "      <td>4077.00</td>\n",
       "    </tr>\n",
       "    <tr>\n",
       "      <th>...</th>\n",
       "      <td>...</td>\n",
       "      <td>...</td>\n",
       "    </tr>\n",
       "    <tr>\n",
       "      <th>2132</th>\n",
       "      <td>16704.0</td>\n",
       "      <td>16704.00</td>\n",
       "    </tr>\n",
       "    <tr>\n",
       "      <th>2133</th>\n",
       "      <td>18581.0</td>\n",
       "      <td>18567.28</td>\n",
       "    </tr>\n",
       "    <tr>\n",
       "      <th>2134</th>\n",
       "      <td>12273.0</td>\n",
       "      <td>12273.69</td>\n",
       "    </tr>\n",
       "    <tr>\n",
       "      <th>2135</th>\n",
       "      <td>12797.0</td>\n",
       "      <td>12804.33</td>\n",
       "    </tr>\n",
       "    <tr>\n",
       "      <th>2136</th>\n",
       "      <td>8452.0</td>\n",
       "      <td>8452.00</td>\n",
       "    </tr>\n",
       "  </tbody>\n",
       "</table>\n",
       "<p>2137 rows × 2 columns</p>\n",
       "</div>"
      ],
      "text/plain": [
       "      original  predicted\n",
       "0      15764.0   15764.48\n",
       "1       3573.0    3573.00\n",
       "2      16389.0   16380.80\n",
       "3       4668.0    4668.00\n",
       "4       4077.0    4077.00\n",
       "...        ...        ...\n",
       "2132   16704.0   16704.00\n",
       "2133   18581.0   18567.28\n",
       "2134   12273.0   12273.69\n",
       "2135   12797.0   12804.33\n",
       "2136    8452.0    8452.00\n",
       "\n",
       "[2137 rows x 2 columns]"
      ]
     },
     "execution_count": 134,
     "metadata": {},
     "output_type": "execute_result"
    }
   ],
   "source": [
    "flight_com=pd.DataFrame({\"original\":a,\"predicted\":predicted}, index= range(len(a)))\n",
    "flight_com"
   ]
  },
  {
   "cell_type": "markdown",
   "id": "786cc155",
   "metadata": {},
   "source": [
    "# From the above table, the model is predicted with 99% percent accuracy."
   ]
  }
 ],
 "metadata": {
  "kernelspec": {
   "display_name": "Python 3",
   "language": "python",
   "name": "python3"
  },
  "language_info": {
   "codemirror_mode": {
    "name": "ipython",
    "version": 3
   },
   "file_extension": ".py",
   "mimetype": "text/x-python",
   "name": "python",
   "nbconvert_exporter": "python",
   "pygments_lexer": "ipython3",
   "version": "3.8.8"
  }
 },
 "nbformat": 4,
 "nbformat_minor": 5
}
